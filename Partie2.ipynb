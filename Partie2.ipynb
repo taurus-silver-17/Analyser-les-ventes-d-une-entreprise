{
 "cells": [
  {
   "cell_type": "code",
   "execution_count": 107,
   "metadata": {},
   "outputs": [],
   "source": [
    "import pandas as pd\n",
    "import numpy as np\n",
    "import scipy as sp\n",
    "import seaborn as sns\n",
    "import scipy.stats as st\n",
    "import matplotlib.pyplot as plt\n",
    "import time\n",
    "import statsmodels.api as sm\n",
    "sell=pd.read_csv(\"Data/sell.csv\")"
   ]
  },
  {
   "cell_type": "markdown",
   "metadata": {},
   "source": [
    "# Mission 2"
   ]
  },
  {
   "cell_type": "code",
   "execution_count": 109,
   "metadata": {},
   "outputs": [],
   "source": [
    "sell.head()\n",
    "CAP=sell"
   ]
  },
  {
   "cell_type": "code",
   "execution_count": 110,
   "metadata": {},
   "outputs": [
    {
     "data": {
      "text/html": [
       "<div>\n",
       "<style scoped>\n",
       "    .dataframe tbody tr th:only-of-type {\n",
       "        vertical-align: middle;\n",
       "    }\n",
       "\n",
       "    .dataframe tbody tr th {\n",
       "        vertical-align: top;\n",
       "    }\n",
       "\n",
       "    .dataframe thead th {\n",
       "        text-align: right;\n",
       "    }\n",
       "</style>\n",
       "<table border=\"1\" class=\"dataframe\">\n",
       "  <thead>\n",
       "    <tr style=\"text-align: right;\">\n",
       "      <th></th>\n",
       "      <th>Unnamed: 0</th>\n",
       "      <th>id_prod</th>\n",
       "      <th>date</th>\n",
       "      <th>session_id</th>\n",
       "      <th>client_id</th>\n",
       "      <th>price</th>\n",
       "      <th>categ</th>\n",
       "      <th>sex</th>\n",
       "      <th>birth</th>\n",
       "      <th>age</th>\n",
       "    </tr>\n",
       "  </thead>\n",
       "  <tbody>\n",
       "    <tr>\n",
       "      <th>0</th>\n",
       "      <td>0</td>\n",
       "      <td>0_1483</td>\n",
       "      <td>2021-04-10 18:37:28.723910</td>\n",
       "      <td>s_18746</td>\n",
       "      <td>c_4450</td>\n",
       "      <td>4.99</td>\n",
       "      <td>0</td>\n",
       "      <td>f</td>\n",
       "      <td>1977</td>\n",
       "      <td>45</td>\n",
       "    </tr>\n",
       "    <tr>\n",
       "      <th>1</th>\n",
       "      <td>1</td>\n",
       "      <td>2_226</td>\n",
       "      <td>2022-02-03 01:55:53.276402</td>\n",
       "      <td>s_159142</td>\n",
       "      <td>c_277</td>\n",
       "      <td>65.75</td>\n",
       "      <td>2</td>\n",
       "      <td>f</td>\n",
       "      <td>2000</td>\n",
       "      <td>22</td>\n",
       "    </tr>\n",
       "    <tr>\n",
       "      <th>2</th>\n",
       "      <td>2</td>\n",
       "      <td>1_374</td>\n",
       "      <td>2021-09-23 15:13:46.938559</td>\n",
       "      <td>s_94290</td>\n",
       "      <td>c_4270</td>\n",
       "      <td>10.71</td>\n",
       "      <td>1</td>\n",
       "      <td>f</td>\n",
       "      <td>1979</td>\n",
       "      <td>43</td>\n",
       "    </tr>\n",
       "    <tr>\n",
       "      <th>3</th>\n",
       "      <td>3</td>\n",
       "      <td>0_2186</td>\n",
       "      <td>2021-10-17 03:27:18.783634</td>\n",
       "      <td>s_105936</td>\n",
       "      <td>c_4597</td>\n",
       "      <td>4.20</td>\n",
       "      <td>0</td>\n",
       "      <td>m</td>\n",
       "      <td>1963</td>\n",
       "      <td>59</td>\n",
       "    </tr>\n",
       "    <tr>\n",
       "      <th>4</th>\n",
       "      <td>4</td>\n",
       "      <td>0_1351</td>\n",
       "      <td>2021-07-17 20:34:25.800563</td>\n",
       "      <td>s_63642</td>\n",
       "      <td>c_1242</td>\n",
       "      <td>8.99</td>\n",
       "      <td>0</td>\n",
       "      <td>f</td>\n",
       "      <td>1980</td>\n",
       "      <td>42</td>\n",
       "    </tr>\n",
       "  </tbody>\n",
       "</table>\n",
       "</div>"
      ],
      "text/plain": [
       "   Unnamed: 0 id_prod                        date session_id client_id  price  \\\n",
       "0           0  0_1483  2021-04-10 18:37:28.723910    s_18746    c_4450   4.99   \n",
       "1           1   2_226  2022-02-03 01:55:53.276402   s_159142     c_277  65.75   \n",
       "2           2   1_374  2021-09-23 15:13:46.938559    s_94290    c_4270  10.71   \n",
       "3           3  0_2186  2021-10-17 03:27:18.783634   s_105936    c_4597   4.20   \n",
       "4           4  0_1351  2021-07-17 20:34:25.800563    s_63642    c_1242   8.99   \n",
       "\n",
       "   categ sex  birth  age  \n",
       "0      0   f   1977   45  \n",
       "1      2   f   2000   22  \n",
       "2      1   f   1979   43  \n",
       "3      0   m   1963   59  \n",
       "4      0   f   1980   42  "
      ]
     },
     "execution_count": 110,
     "metadata": {},
     "output_type": "execute_result"
    }
   ],
   "source": [
    "sell.head()"
   ]
  },
  {
   "cell_type": "code",
   "execution_count": 111,
   "metadata": {},
   "outputs": [],
   "source": [
    "sell=sell[['id_prod','date','session_id','client_id','price','categ','sex','birth','age']]"
   ]
  },
  {
   "cell_type": "code",
   "execution_count": 112,
   "metadata": {},
   "outputs": [
    {
     "data": {
      "text/html": [
       "<div>\n",
       "<style scoped>\n",
       "    .dataframe tbody tr th:only-of-type {\n",
       "        vertical-align: middle;\n",
       "    }\n",
       "\n",
       "    .dataframe tbody tr th {\n",
       "        vertical-align: top;\n",
       "    }\n",
       "\n",
       "    .dataframe thead th {\n",
       "        text-align: right;\n",
       "    }\n",
       "</style>\n",
       "<table border=\"1\" class=\"dataframe\">\n",
       "  <thead>\n",
       "    <tr style=\"text-align: right;\">\n",
       "      <th></th>\n",
       "      <th>id_prod</th>\n",
       "      <th>date</th>\n",
       "      <th>session_id</th>\n",
       "      <th>client_id</th>\n",
       "      <th>price</th>\n",
       "      <th>categ</th>\n",
       "      <th>sex</th>\n",
       "      <th>birth</th>\n",
       "      <th>age</th>\n",
       "    </tr>\n",
       "  </thead>\n",
       "  <tbody>\n",
       "    <tr>\n",
       "      <th>0</th>\n",
       "      <td>0_1483</td>\n",
       "      <td>2021-04-10 18:37:28.723910</td>\n",
       "      <td>s_18746</td>\n",
       "      <td>c_4450</td>\n",
       "      <td>4.99</td>\n",
       "      <td>0</td>\n",
       "      <td>f</td>\n",
       "      <td>1977</td>\n",
       "      <td>45</td>\n",
       "    </tr>\n",
       "    <tr>\n",
       "      <th>1</th>\n",
       "      <td>2_226</td>\n",
       "      <td>2022-02-03 01:55:53.276402</td>\n",
       "      <td>s_159142</td>\n",
       "      <td>c_277</td>\n",
       "      <td>65.75</td>\n",
       "      <td>2</td>\n",
       "      <td>f</td>\n",
       "      <td>2000</td>\n",
       "      <td>22</td>\n",
       "    </tr>\n",
       "    <tr>\n",
       "      <th>2</th>\n",
       "      <td>1_374</td>\n",
       "      <td>2021-09-23 15:13:46.938559</td>\n",
       "      <td>s_94290</td>\n",
       "      <td>c_4270</td>\n",
       "      <td>10.71</td>\n",
       "      <td>1</td>\n",
       "      <td>f</td>\n",
       "      <td>1979</td>\n",
       "      <td>43</td>\n",
       "    </tr>\n",
       "    <tr>\n",
       "      <th>3</th>\n",
       "      <td>0_2186</td>\n",
       "      <td>2021-10-17 03:27:18.783634</td>\n",
       "      <td>s_105936</td>\n",
       "      <td>c_4597</td>\n",
       "      <td>4.20</td>\n",
       "      <td>0</td>\n",
       "      <td>m</td>\n",
       "      <td>1963</td>\n",
       "      <td>59</td>\n",
       "    </tr>\n",
       "    <tr>\n",
       "      <th>4</th>\n",
       "      <td>0_1351</td>\n",
       "      <td>2021-07-17 20:34:25.800563</td>\n",
       "      <td>s_63642</td>\n",
       "      <td>c_1242</td>\n",
       "      <td>8.99</td>\n",
       "      <td>0</td>\n",
       "      <td>f</td>\n",
       "      <td>1980</td>\n",
       "      <td>42</td>\n",
       "    </tr>\n",
       "  </tbody>\n",
       "</table>\n",
       "</div>"
      ],
      "text/plain": [
       "  id_prod                        date session_id client_id  price  categ sex  \\\n",
       "0  0_1483  2021-04-10 18:37:28.723910    s_18746    c_4450   4.99      0   f   \n",
       "1   2_226  2022-02-03 01:55:53.276402   s_159142     c_277  65.75      2   f   \n",
       "2   1_374  2021-09-23 15:13:46.938559    s_94290    c_4270  10.71      1   f   \n",
       "3  0_2186  2021-10-17 03:27:18.783634   s_105936    c_4597   4.20      0   m   \n",
       "4  0_1351  2021-07-17 20:34:25.800563    s_63642    c_1242   8.99      0   f   \n",
       "\n",
       "   birth  age  \n",
       "0   1977   45  \n",
       "1   2000   22  \n",
       "2   1979   43  \n",
       "3   1963   59  \n",
       "4   1980   42  "
      ]
     },
     "execution_count": 112,
     "metadata": {},
     "output_type": "execute_result"
    }
   ],
   "source": [
    "sell.head()"
   ]
  },
  {
   "cell_type": "code",
   "execution_count": 113,
   "metadata": {},
   "outputs": [],
   "source": [
    "sell1=sell.copy()"
   ]
  },
  {
   "cell_type": "code",
   "execution_count": 114,
   "metadata": {},
   "outputs": [
    {
     "data": {
      "text/plain": [
       "<matplotlib.axes._subplots.AxesSubplot at 0x1c33160d68>"
      ]
     },
     "execution_count": 114,
     "metadata": {},
     "output_type": "execute_result"
    },
    {
     "data": {
      "image/png": "[encoded data removed]",
      "text/plain": [
       "<matplotlib.figure.Figure at 0x1c331602b0>"
      ]
     },
     "metadata": {},
     "output_type": "display_data"
    }
   ],
   "source": [
    "sell.boxplot(column='age',by='sex')"
   ]
  },
  {
   "cell_type": "code",
   "execution_count": 115,
   "metadata": {},
   "outputs": [
    {
     "data": {
      "text/plain": [
       "<matplotlib.axes._subplots.AxesSubplot at 0x1c3316be10>"
      ]
     },
     "execution_count": 115,
     "metadata": {},
     "output_type": "execute_result"
    },
    {
     "data": {
      "image/png": "[encoded data removed]",
      "text/plain": [
       "<matplotlib.figure.Figure at 0x1c3316d828>"
      ]
     },
     "metadata": {},
     "output_type": "display_data"
    }
   ],
   "source": [
    "sell.boxplot(column='price',by='categ')"
   ]
  },
  {
   "cell_type": "code",
   "execution_count": 116,
   "metadata": {},
   "outputs": [
    {
     "data": {
      "text/plain": [
       "<matplotlib.axes._subplots.AxesSubplot at 0x1c3316dc50>"
      ]
     },
     "execution_count": 116,
     "metadata": {},
     "output_type": "execute_result"
    },
    {
     "data": {
      "image/png": "[encoded data removed]",
      "text/plain": [
       "<matplotlib.figure.Figure at 0x1c259ada90>"
      ]
     },
     "metadata": {},
     "output_type": "display_data"
    }
   ],
   "source": [
    "sell['price'].plot.kde()"
   ]
  },
  {
   "cell_type": "code",
   "execution_count": 117,
   "metadata": {},
   "outputs": [
    {
     "data": {
      "image/png": "[encoded data removed]",
      "text/plain": [
       "<matplotlib.figure.Figure at 0x1c141671d0>"
      ]
     },
     "metadata": {},
     "output_type": "display_data"
    }
   ],
   "source": [
    "sell.hist(column='price',by='sex')\n",
    "plt.show()"
   ]
  },
  {
   "cell_type": "code",
   "execution_count": 118,
   "metadata": {},
   "outputs": [],
   "source": [
    "client=sell.groupby(['client_id']).sum()"
   ]
  },
  {
   "cell_type": "code",
   "execution_count": 119,
   "metadata": {},
   "outputs": [],
   "source": [
    "client=client.sort_values(by='price',ascending=False)\n",
    "#Ici on affiche nos clients par leur dépense total dans l'order décroissant afin de détecter des  éventuelles anomalies"
   ]
  },
  {
   "cell_type": "code",
   "execution_count": 120,
   "metadata": {},
   "outputs": [
    {
     "data": {
      "text/html": [
       "<div>\n",
       "<style scoped>\n",
       "    .dataframe tbody tr th:only-of-type {\n",
       "        vertical-align: middle;\n",
       "    }\n",
       "\n",
       "    .dataframe tbody tr th {\n",
       "        vertical-align: top;\n",
       "    }\n",
       "\n",
       "    .dataframe thead th {\n",
       "        text-align: right;\n",
       "    }\n",
       "</style>\n",
       "<table border=\"1\" class=\"dataframe\">\n",
       "  <thead>\n",
       "    <tr style=\"text-align: right;\">\n",
       "      <th></th>\n",
       "      <th>price</th>\n",
       "      <th>categ</th>\n",
       "      <th>birth</th>\n",
       "      <th>age</th>\n",
       "    </tr>\n",
       "    <tr>\n",
       "      <th>client_id</th>\n",
       "      <th></th>\n",
       "      <th></th>\n",
       "      <th></th>\n",
       "      <th></th>\n",
       "    </tr>\n",
       "  </thead>\n",
       "  <tbody>\n",
       "    <tr>\n",
       "      <th>c_1609</th>\n",
       "      <td>162007.340000</td>\n",
       "      <td>2570</td>\n",
       "      <td>25452900</td>\n",
       "      <td>539910</td>\n",
       "    </tr>\n",
       "    <tr>\n",
       "      <th>c_4958</th>\n",
       "      <td>144257.210000</td>\n",
       "      <td>4208</td>\n",
       "      <td>5121438</td>\n",
       "      <td>58926</td>\n",
       "    </tr>\n",
       "    <tr>\n",
       "      <th>c_6714</th>\n",
       "      <td>73218.633656</td>\n",
       "      <td>1971</td>\n",
       "      <td>8802864</td>\n",
       "      <td>241542</td>\n",
       "    </tr>\n",
       "    <tr>\n",
       "      <th>c_3454</th>\n",
       "      <td>54464.213656</td>\n",
       "      <td>1953</td>\n",
       "      <td>6448475</td>\n",
       "      <td>173575</td>\n",
       "    </tr>\n",
       "    <tr>\n",
       "      <th>c_7959</th>\n",
       "      <td>2564.250000</td>\n",
       "      <td>38</td>\n",
       "      <td>384930</td>\n",
       "      <td>9360</td>\n",
       "    </tr>\n",
       "    <tr>\n",
       "      <th>c_8026</th>\n",
       "      <td>2548.316828</td>\n",
       "      <td>40</td>\n",
       "      <td>381754</td>\n",
       "      <td>8492</td>\n",
       "    </tr>\n",
       "    <tr>\n",
       "      <th>c_4491</th>\n",
       "      <td>2540.530000</td>\n",
       "      <td>53</td>\n",
       "      <td>333312</td>\n",
       "      <td>6384</td>\n",
       "    </tr>\n",
       "    <tr>\n",
       "      <th>c_2140</th>\n",
       "      <td>2527.010000</td>\n",
       "      <td>43</td>\n",
       "      <td>385515</td>\n",
       "      <td>8775</td>\n",
       "    </tr>\n",
       "    <tr>\n",
       "      <th>c_8392</th>\n",
       "      <td>2515.980000</td>\n",
       "      <td>41</td>\n",
       "      <td>373842</td>\n",
       "      <td>8316</td>\n",
       "    </tr>\n",
       "    <tr>\n",
       "      <th>c_7421</th>\n",
       "      <td>2511.980000</td>\n",
       "      <td>43</td>\n",
       "      <td>373842</td>\n",
       "      <td>8316</td>\n",
       "    </tr>\n",
       "    <tr>\n",
       "      <th>c_3263</th>\n",
       "      <td>2493.320000</td>\n",
       "      <td>41</td>\n",
       "      <td>373180</td>\n",
       "      <td>6956</td>\n",
       "    </tr>\n",
       "    <tr>\n",
       "      <th>c_3725</th>\n",
       "      <td>2450.380000</td>\n",
       "      <td>35</td>\n",
       "      <td>376200</td>\n",
       "      <td>7980</td>\n",
       "    </tr>\n",
       "    <tr>\n",
       "      <th>c_880</th>\n",
       "      <td>2432.390000</td>\n",
       "      <td>35</td>\n",
       "      <td>360371</td>\n",
       "      <td>5611</td>\n",
       "    </tr>\n",
       "    <tr>\n",
       "      <th>c_2595</th>\n",
       "      <td>2423.270000</td>\n",
       "      <td>42</td>\n",
       "      <td>380982</td>\n",
       "      <td>9264</td>\n",
       "    </tr>\n",
       "    <tr>\n",
       "      <th>c_7319</th>\n",
       "      <td>2401.420000</td>\n",
       "      <td>48</td>\n",
       "      <td>337554</td>\n",
       "      <td>8208</td>\n",
       "    </tr>\n",
       "  </tbody>\n",
       "</table>\n",
       "</div>"
      ],
      "text/plain": [
       "                   price  categ     birth     age\n",
       "client_id                                        \n",
       "c_1609     162007.340000   2570  25452900  539910\n",
       "c_4958     144257.210000   4208   5121438   58926\n",
       "c_6714      73218.633656   1971   8802864  241542\n",
       "c_3454      54464.213656   1953   6448475  173575\n",
       "c_7959       2564.250000     38    384930    9360\n",
       "c_8026       2548.316828     40    381754    8492\n",
       "c_4491       2540.530000     53    333312    6384\n",
       "c_2140       2527.010000     43    385515    8775\n",
       "c_8392       2515.980000     41    373842    8316\n",
       "c_7421       2511.980000     43    373842    8316\n",
       "c_3263       2493.320000     41    373180    6956\n",
       "c_3725       2450.380000     35    376200    7980\n",
       "c_880        2432.390000     35    360371    5611\n",
       "c_2595       2423.270000     42    380982    9264\n",
       "c_7319       2401.420000     48    337554    8208"
      ]
     },
     "execution_count": 120,
     "metadata": {},
     "output_type": "execute_result"
    }
   ],
   "source": [
    "client.head(n=15)"
   ]
  },
  {
   "cell_type": "code",
   "execution_count": 121,
   "metadata": {},
   "outputs": [],
   "source": [
    "client['Pourcent_CA']=(client['price']/client['price'].sum())*100"
   ]
  },
  {
   "cell_type": "code",
   "execution_count": 122,
   "metadata": {},
   "outputs": [
    {
     "data": {
      "text/plain": [
       "client_id\n",
       "c_1609    2.794350\n",
       "c_4958    2.488191\n",
       "c_6714    1.262897\n",
       "c_3454    0.939415\n",
       "c_7959    0.044229\n",
       "Name: Pourcent_CA, dtype: float64"
      ]
     },
     "execution_count": 122,
     "metadata": {},
     "output_type": "execute_result"
    }
   ],
   "source": [
    "client['Pourcent_CA'].head()\n",
    "#Ici on voit que le top4 possèdes ressources trop importante et donc il faut les écarter"
   ]
  },
  {
   "cell_type": "code",
   "execution_count": 123,
   "metadata": {},
   "outputs": [],
   "source": [
    "top4_client=['c_1609',\"c_4958\",\"c_6714\",\"c_3454\"]"
   ]
  },
  {
   "cell_type": "code",
   "execution_count": 124,
   "metadata": {},
   "outputs": [
    {
     "data": {
      "text/plain": [
       "<matplotlib.axes._subplots.AxesSubplot at 0x1c1450ba58>"
      ]
     },
     "execution_count": 124,
     "metadata": {},
     "output_type": "execute_result"
    },
    {
     "data": {
      "image/png": "[encoded data removed]",
      "text/plain": [
       "<matplotlib.figure.Figure at 0x1c1416f320>"
      ]
     },
     "metadata": {},
     "output_type": "display_data"
    }
   ],
   "source": [
    "client.reset_index(inplace=True)\n",
    "client.head(n=15).plot.bar(x='client_id', y='price')"
   ]
  },
  {
   "cell_type": "code",
   "execution_count": 125,
   "metadata": {},
   "outputs": [],
   "source": [
    "sell=sell.loc[~sell['client_id'].isin(top4_client),:]\n",
    "#Ici nous retirons notre top4"
   ]
  },
  {
   "cell_type": "code",
   "execution_count": 126,
   "metadata": {},
   "outputs": [],
   "source": [
    "Top_15_client=client.head(n=15).index.values #je stockes les identifants des 15 meilleurs acheteurs"
   ]
  },
  {
   "cell_type": "code",
   "execution_count": 127,
   "metadata": {},
   "outputs": [
    {
     "data": {
      "text/plain": [
       "array([ 0,  1,  2,  3,  4,  5,  6,  7,  8,  9, 10, 11, 12, 13, 14])"
      ]
     },
     "execution_count": 127,
     "metadata": {},
     "output_type": "execute_result"
    }
   ],
   "source": [
    "Top_15_client"
   ]
  },
  {
   "cell_type": "code",
   "execution_count": 128,
   "metadata": {},
   "outputs": [
    {
     "name": "stdout",
     "output_type": "stream",
     "text": [
      "--------------------\n",
      "0\n",
      "moy:\n",
      " 10.645050678519459\n",
      "med:\n",
      " 9.99\n",
      "var:\n",
      " 24.27421592822165\n",
      "std:\n",
      " 4.926887042364748\n",
      "skw:\n",
      " 0.42541669361939843\n",
      "kur:\n",
      " -0.3777536453237804\n"
     ]
    },
    {
     "data": {
      "image/png": "[encoded data removed]",
      "text/plain": [
       "<matplotlib.figure.Figure at 0x1c1416fe48>"
      ]
     },
     "metadata": {},
     "output_type": "display_data"
    },
    {
     "data": {
      "image/png": "[encoded data removed]",
      "text/plain": [
       "<matplotlib.figure.Figure at 0x1c14098fd0>"
      ]
     },
     "metadata": {},
     "output_type": "display_data"
    },
    {
     "name": "stdout",
     "output_type": "stream",
     "text": [
      "--------------------\n",
      "2\n",
      "moy:\n",
      " 75.11313848692225\n",
      "med:\n",
      " 62.54\n",
      "var:\n",
      " 1531.8809728803296\n",
      "std:\n",
      " 39.13925105160202\n",
      "skw:\n",
      " 2.3130531091776154\n",
      "kur:\n",
      " 5.475923138731206\n"
     ]
    },
    {
     "data": {
      "image/png": "[encoded data removed]",
      "text/plain": [
       "<matplotlib.figure.Figure at 0x1c140c3e48>"
      ]
     },
     "metadata": {},
     "output_type": "display_data"
    },
    {
     "data": {
      "image/png": "[encoded data removed]",
      "text/plain": [
       "<matplotlib.figure.Figure at 0x1c2135bcf8>"
      ]
     },
     "metadata": {},
     "output_type": "display_data"
    },
    {
     "name": "stdout",
     "output_type": "stream",
     "text": [
      "--------------------\n",
      "1\n",
      "moy:\n",
      " 20.478298075515564\n",
      "med:\n",
      " 19.08\n",
      "var:\n",
      " 57.33375331295103\n",
      "std:\n",
      " 7.571905527207206\n",
      "skw:\n",
      " 1.7168805164809864\n",
      "kur:\n",
      " 8.047109728034242\n"
     ]
    },
    {
     "data": {
      "image/png": "[encoded data removed]",
      "text/plain": [
       "<matplotlib.figure.Figure at 0x1c214fdbe0>"
      ]
     },
     "metadata": {},
     "output_type": "display_data"
    },
    {
     "data": {
      "image/png": "[encoded data removed]",
      "text/plain": [
       "<matplotlib.figure.Figure at 0x1c22ee8908>"
      ]
     },
     "metadata": {},
     "output_type": "display_data"
    }
   ],
   "source": [
    "for cat in sell[\"categ\"].unique():\n",
    "    sous_echantillon = sell[sell.categ == cat]\n",
    "    print(\"-\"*20)\n",
    "    print(cat)\n",
    "    print(\"moy:\\n\",sous_echantillon['price'].mean())\n",
    "    print(\"med:\\n\",sous_echantillon['price'].median())\n",
    "    print(\"var:\\n\",sous_echantillon['price'].var(ddof=0))\n",
    "    print(\"std:\\n\",sous_echantillon['price'].std(ddof=0))#Standard deviation \n",
    "    print(\"skw:\\n\",sous_echantillon['price'].skew())\n",
    "    print(\"kur:\\n\",sous_echantillon['price'].kurtosis())\n",
    "    #fig=sous_echantillon[\"price\"].hist()\n",
    "    #fig=fig.get_figure()\n",
    "    #fig.savefig('sous_echantillon_prix.png')\n",
    "    sous_echantillon[\"price\"].hist() # Crée l'histogramme\n",
    "    plt.show() # Affiche l'histogramme\n",
    "    #fig1=sous_echantillon.boxplot(column=\"price\", vert=False)\n",
    "    #fig1=fig1.get_figure()\n",
    "    #fig1.savefig('sous_echantillon_prix.png')\n",
    "    sous_echantillon.boxplot(column=\"price\", vert=False)\n",
    "    plt.show()"
   ]
  },
  {
   "cell_type": "code",
   "execution_count": 129,
   "metadata": {},
   "outputs": [
    {
     "data": {
      "image/png": "[encoded data removed]",
      "text/plain": [
       "<matplotlib.figure.Figure at 0x1a0ee1bcf8>"
      ]
     },
     "metadata": {},
     "output_type": "display_data"
    }
   ],
   "source": [
    "import numpy as np\n",
    "\n",
    "depenses = sell[sell['price'] > 0]\n",
    "dep = sell['price'].values\n",
    "lorenz = np.cumsum(np.sort(dep)) / dep.sum()\n",
    "lorenz = np.append([0],lorenz) # La courbe de Lorenz commence à 0\n",
    "plt.plot(np.linspace(0,1,len(lorenz)),lorenz,drawstyle='steps-post')\n",
    "#fig=fig.get_figure()\n",
    "plt.show()\n",
    "\n",
    "\n"
   ]
  },
  {
   "cell_type": "code",
   "execution_count": 130,
   "metadata": {},
   "outputs": [
    {
     "data": {
      "text/plain": [
       "0.38923770566914073"
      ]
     },
     "execution_count": 130,
     "metadata": {},
     "output_type": "execute_result"
    }
   ],
   "source": [
    "#Ici on peut voir que 5%-10% des clients font 25% du CA, puisque notre courbe remonte de manière anormale\n",
    "aire_ss_courbe = lorenz[:-1].sum()/len(lorenz) \n",
    "# aire sous la courbe de Lorenz. La dernière valeur ne participe pas à l'aire, d'où \"[:-1]\"\n",
    "S = 0.5 - aire_ss_courbe # aire entre la 1e bissectrice et la courbe de Lorenz\n",
    "gini = 2*S\n",
    "gini"
   ]
  },
  {
   "cell_type": "code",
   "execution_count": 131,
   "metadata": {},
   "outputs": [],
   "source": [
    "sell['mois'] = pd.to_datetime(sell['date']).dt.to_period('M')\n",
    "#Ici on crée  une colonne mois pour travailler de manière plus efficace"
   ]
  },
  {
   "cell_type": "code",
   "execution_count": 132,
   "metadata": {},
   "outputs": [
    {
     "data": {
      "text/html": [
       "<div>\n",
       "<style scoped>\n",
       "    .dataframe tbody tr th:only-of-type {\n",
       "        vertical-align: middle;\n",
       "    }\n",
       "\n",
       "    .dataframe tbody tr th {\n",
       "        vertical-align: top;\n",
       "    }\n",
       "\n",
       "    .dataframe thead th {\n",
       "        text-align: right;\n",
       "    }\n",
       "</style>\n",
       "<table border=\"1\" class=\"dataframe\">\n",
       "  <thead>\n",
       "    <tr style=\"text-align: right;\">\n",
       "      <th></th>\n",
       "      <th>id_prod</th>\n",
       "      <th>date</th>\n",
       "      <th>session_id</th>\n",
       "      <th>client_id</th>\n",
       "      <th>price</th>\n",
       "      <th>categ</th>\n",
       "      <th>sex</th>\n",
       "      <th>birth</th>\n",
       "      <th>age</th>\n",
       "      <th>mois</th>\n",
       "    </tr>\n",
       "  </thead>\n",
       "  <tbody>\n",
       "    <tr>\n",
       "      <th>0</th>\n",
       "      <td>0_1483</td>\n",
       "      <td>2021-04-10 18:37:28.723910</td>\n",
       "      <td>s_18746</td>\n",
       "      <td>c_4450</td>\n",
       "      <td>4.99</td>\n",
       "      <td>0</td>\n",
       "      <td>f</td>\n",
       "      <td>1977</td>\n",
       "      <td>45</td>\n",
       "      <td>2021-04</td>\n",
       "    </tr>\n",
       "    <tr>\n",
       "      <th>1</th>\n",
       "      <td>2_226</td>\n",
       "      <td>2022-02-03 01:55:53.276402</td>\n",
       "      <td>s_159142</td>\n",
       "      <td>c_277</td>\n",
       "      <td>65.75</td>\n",
       "      <td>2</td>\n",
       "      <td>f</td>\n",
       "      <td>2000</td>\n",
       "      <td>22</td>\n",
       "      <td>2022-02</td>\n",
       "    </tr>\n",
       "    <tr>\n",
       "      <th>2</th>\n",
       "      <td>1_374</td>\n",
       "      <td>2021-09-23 15:13:46.938559</td>\n",
       "      <td>s_94290</td>\n",
       "      <td>c_4270</td>\n",
       "      <td>10.71</td>\n",
       "      <td>1</td>\n",
       "      <td>f</td>\n",
       "      <td>1979</td>\n",
       "      <td>43</td>\n",
       "      <td>2021-09</td>\n",
       "    </tr>\n",
       "    <tr>\n",
       "      <th>3</th>\n",
       "      <td>0_2186</td>\n",
       "      <td>2021-10-17 03:27:18.783634</td>\n",
       "      <td>s_105936</td>\n",
       "      <td>c_4597</td>\n",
       "      <td>4.20</td>\n",
       "      <td>0</td>\n",
       "      <td>m</td>\n",
       "      <td>1963</td>\n",
       "      <td>59</td>\n",
       "      <td>2021-10</td>\n",
       "    </tr>\n",
       "    <tr>\n",
       "      <th>4</th>\n",
       "      <td>0_1351</td>\n",
       "      <td>2021-07-17 20:34:25.800563</td>\n",
       "      <td>s_63642</td>\n",
       "      <td>c_1242</td>\n",
       "      <td>8.99</td>\n",
       "      <td>0</td>\n",
       "      <td>f</td>\n",
       "      <td>1980</td>\n",
       "      <td>42</td>\n",
       "      <td>2021-07</td>\n",
       "    </tr>\n",
       "  </tbody>\n",
       "</table>\n",
       "</div>"
      ],
      "text/plain": [
       "  id_prod                        date session_id client_id  price  categ sex  \\\n",
       "0  0_1483  2021-04-10 18:37:28.723910    s_18746    c_4450   4.99      0   f   \n",
       "1   2_226  2022-02-03 01:55:53.276402   s_159142     c_277  65.75      2   f   \n",
       "2   1_374  2021-09-23 15:13:46.938559    s_94290    c_4270  10.71      1   f   \n",
       "3  0_2186  2021-10-17 03:27:18.783634   s_105936    c_4597   4.20      0   m   \n",
       "4  0_1351  2021-07-17 20:34:25.800563    s_63642    c_1242   8.99      0   f   \n",
       "\n",
       "   birth  age     mois  \n",
       "0   1977   45  2021-04  \n",
       "1   2000   22  2022-02  \n",
       "2   1979   43  2021-09  \n",
       "3   1963   59  2021-10  \n",
       "4   1980   42  2021-07  "
      ]
     },
     "execution_count": 132,
     "metadata": {},
     "output_type": "execute_result"
    }
   ],
   "source": [
    "sell.head()"
   ]
  },
  {
   "cell_type": "code",
   "execution_count": 133,
   "metadata": {},
   "outputs": [],
   "source": [
    "time_serie=sell.groupby(by='mois').sum()\n",
    "#On réalise un groupby par moi en faisant pour mieux visualiser les prix"
   ]
  },
  {
   "cell_type": "code",
   "execution_count": 134,
   "metadata": {},
   "outputs": [
    {
     "data": {
      "image/png": "[encoded data removed]",
      "text/plain": [
       "<matplotlib.figure.Figure at 0x1c23790588>"
      ]
     },
     "metadata": {},
     "output_type": "display_data"
    }
   ],
   "source": [
    "fig=time_serie.plot.bar(y='price',color='lightblue')\n",
    "fig=fig.get_figure()\n",
    "fig.savefig('date.png')\n",
    "#Ici on s'apercoit que nos ventes ont baissé en octobre 2021"
   ]
  },
  {
   "cell_type": "code",
   "execution_count": 135,
   "metadata": {},
   "outputs": [],
   "source": [
    "sell.date=pd.to_datetime(sell.date)"
   ]
  },
  {
   "cell_type": "code",
   "execution_count": 136,
   "metadata": {},
   "outputs": [
    {
     "name": "stdout",
     "output_type": "stream",
     "text": [
      "       id_prod                       date session_id client_id  price  categ  \\\n",
      "3       0_2186 2021-10-17 03:27:18.783634   s_105936    c_4597   4.20      0   \n",
      "10       0_423 2021-10-09 23:50:33.907269   s_102501    c_2225   1.99      0   \n",
      "12      0_1368 2021-10-02 10:50:43.188179    s_98886     c_857   5.13      0   \n",
      "14      0_1207 2021-10-12 23:22:51.290635   s_103927     c_648  16.99      0   \n",
      "17      0_1452 2021-10-15 10:07:12.401758   s_105078    c_6297  13.77      0   \n",
      "28      0_1572 2021-10-18 10:44:56.742021   s_106579    c_8589   8.61      0   \n",
      "31      0_1127 2021-10-02 10:41:36.135881    s_98883    c_2041   5.99      0   \n",
      "55      0_1034 2021-10-11 04:23:29.599571   s_103080    c_4870  14.38      0   \n",
      "142     0_1420 2021-10-17 19:28:49.619771   s_106247     c_390  11.53      0   \n",
      "160     0_1348 2021-10-17 13:29:31.536194   s_106138    c_1656  12.03      0   \n",
      "163      2_227 2021-10-22 17:41:17.347164   s_108583    c_5841  50.99      2   \n",
      "175     0_1435 2021-10-13 05:50:12.700268   s_104041    c_3000  13.99      0   \n",
      "242     0_1247 2021-10-05 08:28:58.911451   s_100274    c_7850  15.99      0   \n",
      "331      1_348 2021-10-01 08:21:33.009615    s_98327    c_2543  16.15      1   \n",
      "332     0_1253 2021-10-26 03:13:10.751184   s_110214     c_412  12.99      0   \n",
      "344      1_435 2021-10-28 01:36:30.625115   s_111122    c_7146  11.99      1   \n",
      "350      0_515 2021-10-20 10:05:59.517060   s_107496    c_6999  11.99      0   \n",
      "351     0_1623 2021-10-20 22:02:37.538613   s_107730    c_1361   7.99      0   \n",
      "368     0_1562 2021-10-21 08:26:10.739306   s_107940    c_3970  14.73      0   \n",
      "389     0_1521 2021-10-13 08:13:27.087469   s_104093     c_722  17.99      0   \n",
      "443     0_1209 2021-10-11 00:43:05.992073   s_103004    c_4780   8.99      0   \n",
      "458     0_1287 2021-10-11 04:37:41.556855   s_103082    c_1855  11.99      0   \n",
      "459      0_410 2021-10-23 19:04:21.253947   s_109088    c_1080  25.23      0   \n",
      "466     0_1644 2021-10-18 03:31:01.073318   s_106420    c_6406   4.77      0   \n",
      "487     0_2171 2021-10-25 20:42:44.831312   s_110069    c_4824   4.99      0   \n",
      "513      0_944 2021-10-17 10:19:11.816939   s_106067    c_8326  13.38      0   \n",
      "577     0_1474 2021-10-30 03:47:06.880002   s_112100      c_89   9.88      0   \n",
      "583     0_1301 2021-10-16 07:35:19.682714   s_105489     c_528   5.99      0   \n",
      "624     0_1564 2021-10-21 05:16:04.282100   s_107880    c_8537  11.12      0   \n",
      "625     0_1038 2021-10-29 16:37:30.563775   s_111864    c_1200   9.74      0   \n",
      "...        ...                        ...        ...       ...    ...    ...   \n",
      "336412  0_1809 2021-10-11 20:06:30.202151   s_103390    c_2572  13.99      0   \n",
      "336414  0_1144 2021-10-22 16:31:07.357767   s_108560    c_2111  18.87      0   \n",
      "336421  0_1130 2021-10-01 18:47:29.871033    s_98556     c_843  12.89      0   \n",
      "336433  0_1132 2021-10-11 00:56:51.527158   s_103003    c_6185  11.33      0   \n",
      "336453  0_1178 2021-10-14 00:31:39.713740   s_104409    c_6065  10.13      0   \n",
      "336472  0_1405 2021-10-13 07:17:50.897080   s_104063    c_3065   4.99      0   \n",
      "336500   0_810 2021-10-02 16:18:50.522346    s_98991    c_8514   3.80      0   \n",
      "336522   0_131 2021-10-16 09:21:56.834803   s_105542     c_297  11.99      0   \n",
      "336528  0_1560 2021-10-01 08:15:38.953967    s_98307    c_2409  12.12      0   \n",
      "336536  0_1222 2021-10-07 11:34:51.420593   s_101297    c_4088   6.99      0   \n",
      "336556  0_1031 2021-10-21 23:11:52.461877   s_108228    c_4156   6.99      0   \n",
      "336571  0_1947 2021-10-04 07:28:07.044677    s_99770    c_8592  12.99      0   \n",
      "336587  0_1888 2021-10-24 19:56:52.679112   s_109599    c_1014   9.78      0   \n",
      "336591  0_1168 2021-10-19 05:00:09.923090   s_106937    c_2860  11.91      0   \n",
      "336610  0_1441 2021-10-10 15:14:51.466985   s_102822    c_7310  18.99      0   \n",
      "336662    1_23 2021-10-28 21:57:37.279821   s_111495    c_3047  23.99      1   \n",
      "336699  0_1375 2021-10-24 12:04:57.248634   s_109427    c_1870   7.99      0   \n",
      "336733   1_390 2021-10-30 09:46:51.183163   s_112221    c_4450   8.58      1   \n",
      "336745  0_1930 2021-10-21 02:49:40.640385   s_107831    c_2916   5.97      0   \n",
      "336749  0_1326 2021-10-19 15:28:49.076609   s_107131    c_2875  14.74      0   \n",
      "336751   1_466 2021-10-29 15:03:57.430458   s_111845    c_2028  15.81      1   \n",
      "336752  0_1205 2021-10-23 05:49:19.733605   s_108824    c_6991  10.99      0   \n",
      "336759  0_1179 2021-10-17 13:49:48.142405   s_106143    c_1713   5.99      0   \n",
      "336762  0_1390 2021-10-11 00:54:38.344673   s_103007    c_7507  19.37      0   \n",
      "336763  0_1452 2021-10-07 02:17:30.221167   s_101119    c_1938  13.77      0   \n",
      "336767  0_1159 2021-10-25 11:55:26.814430   s_109915     c_772   7.99      0   \n",
      "336772  0_1008 2021-10-24 18:24:48.407163   s_109564    c_4468   4.73      0   \n",
      "336796  0_1526 2021-10-05 16:45:36.045702   s_100453    c_6341   6.62      0   \n",
      "336806   0_153 2021-10-17 12:47:22.803642   s_106129     c_682   3.99      0   \n",
      "336814   2_227 2021-10-30 16:50:15.997750   s_112349       c_5  50.99      2   \n",
      "\n",
      "       sex  birth  age     mois  \n",
      "3        m   1963   59  2021-10  \n",
      "10       f   1949   73  2021-10  \n",
      "12       m   1985   37  2021-10  \n",
      "14       m   1976   46  2021-10  \n",
      "17       f   1969   53  2021-10  \n",
      "28       m   1958   64  2021-10  \n",
      "31       f   1975   47  2021-10  \n",
      "55       f   1981   41  2021-10  \n",
      "142      f   1982   40  2021-10  \n",
      "160      f   1982   40  2021-10  \n",
      "163      m   1996   26  2021-10  \n",
      "175      f   1985   37  2021-10  \n",
      "242      f   1981   41  2021-10  \n",
      "331      m   1952   70  2021-10  \n",
      "332      m   1976   46  2021-10  \n",
      "344      m   1971   51  2021-10  \n",
      "350      f   1981   41  2021-10  \n",
      "351      f   1982   40  2021-10  \n",
      "368      f   1991   31  2021-10  \n",
      "389      f   1987   35  2021-10  \n",
      "443      f   1954   68  2021-10  \n",
      "458      f   1987   35  2021-10  \n",
      "459      f   1969   53  2021-10  \n",
      "466      m   1988   34  2021-10  \n",
      "487      m   1974   48  2021-10  \n",
      "513      m   1983   39  2021-10  \n",
      "577      m   1971   51  2021-10  \n",
      "583      f   1989   33  2021-10  \n",
      "624      f   1991   31  2021-10  \n",
      "625      m   1979   43  2021-10  \n",
      "...     ..    ...  ...      ...  \n",
      "336412   f   1978   44  2021-10  \n",
      "336414   f   1959   63  2021-10  \n",
      "336421   f   1968   54  2021-10  \n",
      "336433   m   1984   38  2021-10  \n",
      "336453   m   1960   62  2021-10  \n",
      "336472   f   1977   45  2021-10  \n",
      "336500   m   1981   41  2021-10  \n",
      "336522   m   2002   20  2021-10  \n",
      "336528   f   1978   44  2021-10  \n",
      "336536   f   1951   71  2021-10  \n",
      "336556   f   1974   48  2021-10  \n",
      "336571   f   1974   48  2021-10  \n",
      "336587   m   1989   33  2021-10  \n",
      "336591   m   1961   61  2021-10  \n",
      "336610   m   1979   43  2021-10  \n",
      "336662   f   1969   53  2021-10  \n",
      "336699   m   1983   39  2021-10  \n",
      "336733   f   1977   45  2021-10  \n",
      "336745   m   1967   55  2021-10  \n",
      "336749   m   1974   48  2021-10  \n",
      "336751   f   1978   44  2021-10  \n",
      "336752   f   1978   44  2021-10  \n",
      "336759   m   1981   41  2021-10  \n",
      "336762   m   1981   41  2021-10  \n",
      "336763   f   1979   43  2021-10  \n",
      "336767   f   1996   26  2021-10  \n",
      "336772   f   1983   39  2021-10  \n",
      "336796   m   1975   47  2021-10  \n",
      "336806   f   1974   48  2021-10  \n",
      "336814   f   1994   28  2021-10  \n",
      "\n",
      "[19143 rows x 10 columns]\n"
     ]
    }
   ],
   "source": [
    "print(sell.loc[(sell['date']>=pd.to_datetime('2021-10-01',format='%Y-%m-%d')) \n",
    "               &(sell['date']<=pd.to_datetime('2021-10-31',format='%Y-%m-%d')),:])"
   ]
  },
  {
   "cell_type": "code",
   "execution_count": 137,
   "metadata": {},
   "outputs": [
    {
     "data": {
      "text/html": [
       "<div>\n",
       "<style scoped>\n",
       "    .dataframe tbody tr th:only-of-type {\n",
       "        vertical-align: middle;\n",
       "    }\n",
       "\n",
       "    .dataframe tbody tr th {\n",
       "        vertical-align: top;\n",
       "    }\n",
       "\n",
       "    .dataframe thead th {\n",
       "        text-align: right;\n",
       "    }\n",
       "</style>\n",
       "<table border=\"1\" class=\"dataframe\">\n",
       "  <thead>\n",
       "    <tr style=\"text-align: right;\">\n",
       "      <th></th>\n",
       "      <th>price</th>\n",
       "      <th>categ</th>\n",
       "      <th>birth</th>\n",
       "      <th>age</th>\n",
       "    </tr>\n",
       "  </thead>\n",
       "  <tbody>\n",
       "    <tr>\n",
       "      <th>count</th>\n",
       "      <td>313651.000000</td>\n",
       "      <td>313651.000000</td>\n",
       "      <td>313651.000000</td>\n",
       "      <td>313651.000000</td>\n",
       "    </tr>\n",
       "    <tr>\n",
       "      <th>mean</th>\n",
       "      <td>17.100940</td>\n",
       "      <td>0.427663</td>\n",
       "      <td>1977.793433</td>\n",
       "      <td>44.206567</td>\n",
       "    </tr>\n",
       "    <tr>\n",
       "      <th>std</th>\n",
       "      <td>17.594441</td>\n",
       "      <td>0.587569</td>\n",
       "      <td>13.797003</td>\n",
       "      <td>13.797003</td>\n",
       "    </tr>\n",
       "    <tr>\n",
       "      <th>min</th>\n",
       "      <td>0.620000</td>\n",
       "      <td>0.000000</td>\n",
       "      <td>1929.000000</td>\n",
       "      <td>18.000000</td>\n",
       "    </tr>\n",
       "    <tr>\n",
       "      <th>25%</th>\n",
       "      <td>8.580000</td>\n",
       "      <td>0.000000</td>\n",
       "      <td>1971.000000</td>\n",
       "      <td>35.000000</td>\n",
       "    </tr>\n",
       "    <tr>\n",
       "      <th>50%</th>\n",
       "      <td>13.820000</td>\n",
       "      <td>0.000000</td>\n",
       "      <td>1979.000000</td>\n",
       "      <td>43.000000</td>\n",
       "    </tr>\n",
       "    <tr>\n",
       "      <th>75%</th>\n",
       "      <td>18.990000</td>\n",
       "      <td>1.000000</td>\n",
       "      <td>1987.000000</td>\n",
       "      <td>51.000000</td>\n",
       "    </tr>\n",
       "    <tr>\n",
       "      <th>max</th>\n",
       "      <td>300.000000</td>\n",
       "      <td>2.000000</td>\n",
       "      <td>2004.000000</td>\n",
       "      <td>93.000000</td>\n",
       "    </tr>\n",
       "  </tbody>\n",
       "</table>\n",
       "</div>"
      ],
      "text/plain": [
       "               price          categ          birth            age\n",
       "count  313651.000000  313651.000000  313651.000000  313651.000000\n",
       "mean       17.100940       0.427663    1977.793433      44.206567\n",
       "std        17.594441       0.587569      13.797003      13.797003\n",
       "min         0.620000       0.000000    1929.000000      18.000000\n",
       "25%         8.580000       0.000000    1971.000000      35.000000\n",
       "50%        13.820000       0.000000    1979.000000      43.000000\n",
       "75%        18.990000       1.000000    1987.000000      51.000000\n",
       "max       300.000000       2.000000    2004.000000      93.000000"
      ]
     },
     "execution_count": 137,
     "metadata": {},
     "output_type": "execute_result"
    }
   ],
   "source": [
    "sell.describe()"
   ]
  },
  {
   "cell_type": "code",
   "execution_count": 138,
   "metadata": {},
   "outputs": [],
   "source": [
    "Analyse=(sell.loc[(sell['date']>=pd.to_datetime('2021-10-01',format='%Y-%m-%d')) \n",
    "               &(sell['date']<=pd.to_datetime('2021-10-31',format='%Y-%m-%d')),:])\n",
    "#On stocke notre mois suspect dans Analyse"
   ]
  },
  {
   "cell_type": "code",
   "execution_count": 139,
   "metadata": {},
   "outputs": [],
   "source": [
    "Analyse_Nov=(sell.loc[(sell['date']>=pd.to_datetime('2021-11-01',format='%Y-%m-%d')) \n",
    "               &(sell['date']<=pd.to_datetime('2021-11-30',format='%Y-%m-%d')),:])\n",
    "#On stocke un mois lambda pour comparer avec le mois d'octobre qui était suspect "
   ]
  },
  {
   "cell_type": "code",
   "execution_count": 140,
   "metadata": {},
   "outputs": [
    {
     "data": {
      "text/plain": [
       "<matplotlib.axes._subplots.AxesSubplot at 0x1c1405e438>"
      ]
     },
     "execution_count": 140,
     "metadata": {},
     "output_type": "execute_result"
    },
    {
     "data": {
      "image/png": "[encoded data removed]",
      "text/plain": [
       "<matplotlib.figure.Figure at 0x1c237904e0>"
      ]
     },
     "metadata": {},
     "output_type": "display_data"
    }
   ],
   "source": [
    "Analyse['price'].plot()\n",
    "Analyse_Nov['price'].plot()\n",
    "#Ici notre graphique n'est pas vraiment parlant "
   ]
  },
  {
   "cell_type": "code",
   "execution_count": 141,
   "metadata": {},
   "outputs": [
    {
     "name": "stdout",
     "output_type": "stream",
     "text": [
      "0    16879\n",
      "1     1243\n",
      "2     1021\n",
      "Name: categ, dtype: int64\n",
      "0    13160\n",
      "1    11027\n",
      "2     1189\n",
      "Name: categ, dtype: int64\n"
     ]
    }
   ],
   "source": [
    "print(Analyse[\"categ\"].value_counts())\n",
    "print(Analyse_Nov['categ'].value_counts())\n",
    "#Ici nous trouvons notre explication le mois d'octobre a vendu bcp plus de categorie 0 et 10 fois moins de categorie\n",
    "#D'ou la baisse de prix"
   ]
  },
  {
   "cell_type": "markdown",
   "metadata": {},
   "source": [
    "On en déduit donc qu'il y a eu beaucoup plus de vente de catégorie 0 que d'habitude, en faisant baisser les ventes de categ 1 (divisé par 10)"
   ]
  },
  {
   "cell_type": "markdown",
   "metadata": {},
   "source": [
    "# Q1 : Corrélation entre le sexe des clients et les catégories de produits achetés"
   ]
  },
  {
   "cell_type": "code",
   "execution_count": 142,
   "metadata": {},
   "outputs": [
    {
     "data": {
      "text/html": [
       "<div>\n",
       "<style scoped>\n",
       "    .dataframe tbody tr th:only-of-type {\n",
       "        vertical-align: middle;\n",
       "    }\n",
       "\n",
       "    .dataframe tbody tr th {\n",
       "        vertical-align: top;\n",
       "    }\n",
       "\n",
       "    .dataframe thead th {\n",
       "        text-align: right;\n",
       "    }\n",
       "</style>\n",
       "<table border=\"1\" class=\"dataframe\">\n",
       "  <thead>\n",
       "    <tr style=\"text-align: right;\">\n",
       "      <th>categ</th>\n",
       "      <th>0</th>\n",
       "      <th>1</th>\n",
       "      <th>2</th>\n",
       "    </tr>\n",
       "    <tr>\n",
       "      <th>sex</th>\n",
       "      <th></th>\n",
       "      <th></th>\n",
       "      <th></th>\n",
       "    </tr>\n",
       "  </thead>\n",
       "  <tbody>\n",
       "    <tr>\n",
       "      <th>f</th>\n",
       "      <td>101206</td>\n",
       "      <td>53774</td>\n",
       "      <td>8122</td>\n",
       "    </tr>\n",
       "    <tr>\n",
       "      <th>m</th>\n",
       "      <td>94064</td>\n",
       "      <td>48851</td>\n",
       "      <td>7634</td>\n",
       "    </tr>\n",
       "  </tbody>\n",
       "</table>\n",
       "</div>"
      ],
      "text/plain": [
       "categ       0      1     2\n",
       "sex                       \n",
       "f      101206  53774  8122\n",
       "m       94064  48851  7634"
      ]
     },
     "execution_count": 142,
     "metadata": {},
     "output_type": "execute_result"
    }
   ],
   "source": [
    "X = \"sex\"\n",
    "Y = \"categ\"\n",
    "\n",
    "c = sell[[X,Y]].pivot_table(index=X,columns=Y,aggfunc=len)\n",
    "cont = c.copy()\n",
    "\n",
    "tx = sell[X].value_counts()\n",
    "ty = sell[Y].value_counts()\n",
    "\n",
    "#cont.loc[:,\"Total\"] = tx.values\n",
    "#cont.loc[\"total\",:] = ty\n",
    "#cont.loc[\"total\",\"Total\"] = len(sell)\n",
    "cont"
   ]
  },
  {
   "cell_type": "code",
   "execution_count": 143,
   "metadata": {},
   "outputs": [
    {
     "name": "stdout",
     "output_type": "stream",
     "text": [
      "10.11086551372657\n"
     ]
    },
    {
     "data": {
      "image/png": "[encoded data removed]",
      "text/plain": [
       "<matplotlib.figure.Figure at 0x1a0d84f630>"
      ]
     },
     "metadata": {},
     "output_type": "display_data"
    }
   ],
   "source": [
    "tx = pd.DataFrame(tx)\n",
    "ty = pd.DataFrame(ty)\n",
    "tx.columns = [\"foo\"]\n",
    "ty.columns = [\"foo\"]\n",
    "n = len(sell)\n",
    "indep = tx.dot(ty.T) / n\n",
    "\n",
    "c = c.fillna(0) # on remplace les valeurs nulles par des 0\n",
    "mesure = (c-indep)**2/indep\n",
    "xi_n = mesure.sum().sum()#indicateur de corrélation \n",
    "print(xi_n)#\n",
    "sns.heatmap(mesure/xi_n,annot=c)\n",
    "plt.show()\n",
    "#fig=sns.heatmap(mesure/xi_n,annot=c)\n",
    "#fig=fig.get_figure()\n",
    "#fig.savefig('heatmap.png')"
   ]
  },
  {
   "cell_type": "markdown",
   "metadata": {},
   "source": [
    "# Q2.A : Corrélation entre l'âge des clients et le montant total des achats¶\n"
   ]
  },
  {
   "cell_type": "markdown",
   "metadata": {},
   "source": [
    " # Avec Outliers"
   ]
  },
  {
   "cell_type": "code",
   "execution_count": 144,
   "metadata": {},
   "outputs": [],
   "source": [
    "categorie_age=sell.groupby('age').sum().reset_index()"
   ]
  },
  {
   "cell_type": "code",
   "execution_count": 145,
   "metadata": {},
   "outputs": [
    {
     "data": {
      "text/html": [
       "<div>\n",
       "<style scoped>\n",
       "    .dataframe tbody tr th:only-of-type {\n",
       "        vertical-align: middle;\n",
       "    }\n",
       "\n",
       "    .dataframe tbody tr th {\n",
       "        vertical-align: top;\n",
       "    }\n",
       "\n",
       "    .dataframe thead th {\n",
       "        text-align: right;\n",
       "    }\n",
       "</style>\n",
       "<table border=\"1\" class=\"dataframe\">\n",
       "  <thead>\n",
       "    <tr style=\"text-align: right;\">\n",
       "      <th></th>\n",
       "      <th>age</th>\n",
       "      <th>price</th>\n",
       "      <th>categ</th>\n",
       "      <th>birth</th>\n",
       "    </tr>\n",
       "  </thead>\n",
       "  <tbody>\n",
       "    <tr>\n",
       "      <th>0</th>\n",
       "      <td>18</td>\n",
       "      <td>295387.980000</td>\n",
       "      <td>8601</td>\n",
       "      <td>14725392</td>\n",
       "    </tr>\n",
       "    <tr>\n",
       "      <th>1</th>\n",
       "      <td>19</td>\n",
       "      <td>88461.390000</td>\n",
       "      <td>2571</td>\n",
       "      <td>4370546</td>\n",
       "    </tr>\n",
       "    <tr>\n",
       "      <th>2</th>\n",
       "      <td>20</td>\n",
       "      <td>89920.666828</td>\n",
       "      <td>2622</td>\n",
       "      <td>4452448</td>\n",
       "    </tr>\n",
       "    <tr>\n",
       "      <th>3</th>\n",
       "      <td>21</td>\n",
       "      <td>84881.480000</td>\n",
       "      <td>2410</td>\n",
       "      <td>4066032</td>\n",
       "    </tr>\n",
       "    <tr>\n",
       "      <th>4</th>\n",
       "      <td>22</td>\n",
       "      <td>80110.566828</td>\n",
       "      <td>2385</td>\n",
       "      <td>4350000</td>\n",
       "    </tr>\n",
       "  </tbody>\n",
       "</table>\n",
       "</div>"
      ],
      "text/plain": [
       "   age          price  categ     birth\n",
       "0   18  295387.980000   8601  14725392\n",
       "1   19   88461.390000   2571   4370546\n",
       "2   20   89920.666828   2622   4452448\n",
       "3   21   84881.480000   2410   4066032\n",
       "4   22   80110.566828   2385   4350000"
      ]
     },
     "execution_count": 145,
     "metadata": {},
     "output_type": "execute_result"
    }
   ],
   "source": [
    "categorie_age.head()"
   ]
  },
  {
   "cell_type": "code",
   "execution_count": 146,
   "metadata": {},
   "outputs": [
    {
     "data": {
      "image/png": "[encoded data removed]",
      "text/plain": [
       "<matplotlib.figure.Figure at 0x1c13d73b00>"
      ]
     },
     "metadata": {},
     "output_type": "display_data"
    }
   ],
   "source": [
    "plt.plot(categorie_age[\"age\"],categorie_age[\"price\"],'o',alpha=0.5)\n",
    "plt.xlabel(\"age\")\n",
    "plt.ylabel(\"montant de dépense\")\n",
    "#fig=fig.get_figure()\n",
    "#fig.savefig('outlier_Q2A.png')\n",
    "plt.show()\n",
    "#fig=sns.heatmap(mesure/xi_n,annot=c)\n",
    "#fig=fig.get_figure()\n",
    "#fig.savefig('heatmap.png')\n"
   ]
  },
  {
   "cell_type": "code",
   "execution_count": 147,
   "metadata": {},
   "outputs": [
    {
     "data": {
      "text/plain": [
       "-0.8277056992132452"
      ]
     },
     "execution_count": 147,
     "metadata": {},
     "output_type": "execute_result"
    }
   ],
   "source": [
    "st.pearsonr(categorie_age[\"age\"],categorie_age[\"price\"])[0]"
   ]
  },
  {
   "cell_type": "code",
   "execution_count": 148,
   "metadata": {},
   "outputs": [
    {
     "data": {
      "text/plain": [
       "-996419.9366378289"
      ]
     },
     "execution_count": 148,
     "metadata": {},
     "output_type": "execute_result"
    }
   ],
   "source": [
    "np.cov(categorie_age[\"age\"],categorie_age[\"price\"],ddof=0)[1,0]"
   ]
  },
  {
   "cell_type": "code",
   "execution_count": 149,
   "metadata": {},
   "outputs": [
    {
     "data": {
      "text/plain": [
       "age           -2070.482985\n",
       "intercept    185487.160890\n",
       "dtype: float64"
      ]
     },
     "execution_count": 149,
     "metadata": {},
     "output_type": "execute_result"
    }
   ],
   "source": [
    "import statsmodels.api as sm\n",
    "\n",
    "Y = categorie_age['price']\n",
    "X = categorie_age[['age']]\n",
    "X = X.copy() # On modifiera X, on en crée donc une copie\n",
    "X['intercept'] = 1.\n",
    "result = sm.OLS(Y, X).fit() # OLS = Ordinary Least Square (Moindres Carrés Ordinaire)\n",
    "a,b = result.params['age'],result.params['intercept']\n",
    "\n",
    "result.params"
   ]
  },
  {
   "cell_type": "code",
   "execution_count": 150,
   "metadata": {},
   "outputs": [
    {
     "data": {
      "image/png": "[encoded data removed]",
      "text/plain": [
       "<matplotlib.figure.Figure at 0x1c1450b1d0>"
      ]
     },
     "metadata": {},
     "output_type": "display_data"
    }
   ],
   "source": [
    "plt.plot(categorie_age.age,categorie_age.price, \"o\")\n",
    "plt.plot(np.arange(18,100),[a*x+b for x in np.arange(18,100)])#18 represente le depart, un pas de 100 \n",
    "plt.xlabel(\"age\")\n",
    "plt.ylabel(\"price\")\n",
    "plt.show()"
   ]
  },
  {
   "cell_type": "markdown",
   "metadata": {},
   "source": [
    " # Sans Outliers"
   ]
  },
  {
   "cell_type": "code",
   "execution_count": 151,
   "metadata": {},
   "outputs": [],
   "source": [
    "CAP=sell1"
   ]
  },
  {
   "cell_type": "code",
   "execution_count": 152,
   "metadata": {},
   "outputs": [
    {
     "data": {
      "text/html": [
       "<div>\n",
       "<style scoped>\n",
       "    .dataframe tbody tr th:only-of-type {\n",
       "        vertical-align: middle;\n",
       "    }\n",
       "\n",
       "    .dataframe tbody tr th {\n",
       "        vertical-align: top;\n",
       "    }\n",
       "\n",
       "    .dataframe thead th {\n",
       "        text-align: right;\n",
       "    }\n",
       "</style>\n",
       "<table border=\"1\" class=\"dataframe\">\n",
       "  <thead>\n",
       "    <tr style=\"text-align: right;\">\n",
       "      <th></th>\n",
       "      <th>id_prod</th>\n",
       "      <th>date</th>\n",
       "      <th>session_id</th>\n",
       "      <th>client_id</th>\n",
       "      <th>price</th>\n",
       "      <th>categ</th>\n",
       "      <th>sex</th>\n",
       "      <th>birth</th>\n",
       "      <th>age</th>\n",
       "    </tr>\n",
       "  </thead>\n",
       "  <tbody>\n",
       "    <tr>\n",
       "      <th>0</th>\n",
       "      <td>0_1483</td>\n",
       "      <td>2021-04-10 18:37:28.723910</td>\n",
       "      <td>s_18746</td>\n",
       "      <td>c_4450</td>\n",
       "      <td>4.99</td>\n",
       "      <td>0</td>\n",
       "      <td>f</td>\n",
       "      <td>1977</td>\n",
       "      <td>45</td>\n",
       "    </tr>\n",
       "    <tr>\n",
       "      <th>1</th>\n",
       "      <td>2_226</td>\n",
       "      <td>2022-02-03 01:55:53.276402</td>\n",
       "      <td>s_159142</td>\n",
       "      <td>c_277</td>\n",
       "      <td>65.75</td>\n",
       "      <td>2</td>\n",
       "      <td>f</td>\n",
       "      <td>2000</td>\n",
       "      <td>22</td>\n",
       "    </tr>\n",
       "    <tr>\n",
       "      <th>2</th>\n",
       "      <td>1_374</td>\n",
       "      <td>2021-09-23 15:13:46.938559</td>\n",
       "      <td>s_94290</td>\n",
       "      <td>c_4270</td>\n",
       "      <td>10.71</td>\n",
       "      <td>1</td>\n",
       "      <td>f</td>\n",
       "      <td>1979</td>\n",
       "      <td>43</td>\n",
       "    </tr>\n",
       "    <tr>\n",
       "      <th>3</th>\n",
       "      <td>0_2186</td>\n",
       "      <td>2021-10-17 03:27:18.783634</td>\n",
       "      <td>s_105936</td>\n",
       "      <td>c_4597</td>\n",
       "      <td>4.20</td>\n",
       "      <td>0</td>\n",
       "      <td>m</td>\n",
       "      <td>1963</td>\n",
       "      <td>59</td>\n",
       "    </tr>\n",
       "    <tr>\n",
       "      <th>4</th>\n",
       "      <td>0_1351</td>\n",
       "      <td>2021-07-17 20:34:25.800563</td>\n",
       "      <td>s_63642</td>\n",
       "      <td>c_1242</td>\n",
       "      <td>8.99</td>\n",
       "      <td>0</td>\n",
       "      <td>f</td>\n",
       "      <td>1980</td>\n",
       "      <td>42</td>\n",
       "    </tr>\n",
       "  </tbody>\n",
       "</table>\n",
       "</div>"
      ],
      "text/plain": [
       "  id_prod                        date session_id client_id  price  categ sex  \\\n",
       "0  0_1483  2021-04-10 18:37:28.723910    s_18746    c_4450   4.99      0   f   \n",
       "1   2_226  2022-02-03 01:55:53.276402   s_159142     c_277  65.75      2   f   \n",
       "2   1_374  2021-09-23 15:13:46.938559    s_94290    c_4270  10.71      1   f   \n",
       "3  0_2186  2021-10-17 03:27:18.783634   s_105936    c_4597   4.20      0   m   \n",
       "4  0_1351  2021-07-17 20:34:25.800563    s_63642    c_1242   8.99      0   f   \n",
       "\n",
       "   birth  age  \n",
       "0   1977   45  \n",
       "1   2000   22  \n",
       "2   1979   43  \n",
       "3   1963   59  \n",
       "4   1980   42  "
      ]
     },
     "execution_count": 152,
     "metadata": {},
     "output_type": "execute_result"
    }
   ],
   "source": [
    "CAP.head()"
   ]
  },
  {
   "cell_type": "code",
   "execution_count": 153,
   "metadata": {},
   "outputs": [],
   "source": [
    "CAP=CAP.loc[(CAP['age']!=18),:]"
   ]
  },
  {
   "cell_type": "code",
   "execution_count": 154,
   "metadata": {},
   "outputs": [
    {
     "data": {
      "text/html": [
       "<div>\n",
       "<style scoped>\n",
       "    .dataframe tbody tr th:only-of-type {\n",
       "        vertical-align: middle;\n",
       "    }\n",
       "\n",
       "    .dataframe tbody tr th {\n",
       "        vertical-align: top;\n",
       "    }\n",
       "\n",
       "    .dataframe thead th {\n",
       "        text-align: right;\n",
       "    }\n",
       "</style>\n",
       "<table border=\"1\" class=\"dataframe\">\n",
       "  <thead>\n",
       "    <tr style=\"text-align: right;\">\n",
       "      <th></th>\n",
       "      <th>id_prod</th>\n",
       "      <th>date</th>\n",
       "      <th>session_id</th>\n",
       "      <th>client_id</th>\n",
       "      <th>price</th>\n",
       "      <th>categ</th>\n",
       "      <th>sex</th>\n",
       "      <th>birth</th>\n",
       "      <th>age</th>\n",
       "    </tr>\n",
       "  </thead>\n",
       "  <tbody>\n",
       "    <tr>\n",
       "      <th>0</th>\n",
       "      <td>0_1483</td>\n",
       "      <td>2021-04-10 18:37:28.723910</td>\n",
       "      <td>s_18746</td>\n",
       "      <td>c_4450</td>\n",
       "      <td>4.99</td>\n",
       "      <td>0</td>\n",
       "      <td>f</td>\n",
       "      <td>1977</td>\n",
       "      <td>45</td>\n",
       "    </tr>\n",
       "    <tr>\n",
       "      <th>1</th>\n",
       "      <td>2_226</td>\n",
       "      <td>2022-02-03 01:55:53.276402</td>\n",
       "      <td>s_159142</td>\n",
       "      <td>c_277</td>\n",
       "      <td>65.75</td>\n",
       "      <td>2</td>\n",
       "      <td>f</td>\n",
       "      <td>2000</td>\n",
       "      <td>22</td>\n",
       "    </tr>\n",
       "    <tr>\n",
       "      <th>2</th>\n",
       "      <td>1_374</td>\n",
       "      <td>2021-09-23 15:13:46.938559</td>\n",
       "      <td>s_94290</td>\n",
       "      <td>c_4270</td>\n",
       "      <td>10.71</td>\n",
       "      <td>1</td>\n",
       "      <td>f</td>\n",
       "      <td>1979</td>\n",
       "      <td>43</td>\n",
       "    </tr>\n",
       "    <tr>\n",
       "      <th>3</th>\n",
       "      <td>0_2186</td>\n",
       "      <td>2021-10-17 03:27:18.783634</td>\n",
       "      <td>s_105936</td>\n",
       "      <td>c_4597</td>\n",
       "      <td>4.20</td>\n",
       "      <td>0</td>\n",
       "      <td>m</td>\n",
       "      <td>1963</td>\n",
       "      <td>59</td>\n",
       "    </tr>\n",
       "    <tr>\n",
       "      <th>4</th>\n",
       "      <td>0_1351</td>\n",
       "      <td>2021-07-17 20:34:25.800563</td>\n",
       "      <td>s_63642</td>\n",
       "      <td>c_1242</td>\n",
       "      <td>8.99</td>\n",
       "      <td>0</td>\n",
       "      <td>f</td>\n",
       "      <td>1980</td>\n",
       "      <td>42</td>\n",
       "    </tr>\n",
       "  </tbody>\n",
       "</table>\n",
       "</div>"
      ],
      "text/plain": [
       "  id_prod                        date session_id client_id  price  categ sex  \\\n",
       "0  0_1483  2021-04-10 18:37:28.723910    s_18746    c_4450   4.99      0   f   \n",
       "1   2_226  2022-02-03 01:55:53.276402   s_159142     c_277  65.75      2   f   \n",
       "2   1_374  2021-09-23 15:13:46.938559    s_94290    c_4270  10.71      1   f   \n",
       "3  0_2186  2021-10-17 03:27:18.783634   s_105936    c_4597   4.20      0   m   \n",
       "4  0_1351  2021-07-17 20:34:25.800563    s_63642    c_1242   8.99      0   f   \n",
       "\n",
       "   birth  age  \n",
       "0   1977   45  \n",
       "1   2000   22  \n",
       "2   1979   43  \n",
       "3   1963   59  \n",
       "4   1980   42  "
      ]
     },
     "execution_count": 154,
     "metadata": {},
     "output_type": "execute_result"
    }
   ],
   "source": [
    "CAP.head()"
   ]
  },
  {
   "cell_type": "code",
   "execution_count": 155,
   "metadata": {},
   "outputs": [],
   "source": [
    "CAP=CAP.groupby('age').sum().reset_index()"
   ]
  },
  {
   "cell_type": "code",
   "execution_count": 156,
   "metadata": {},
   "outputs": [],
   "source": [
    "CAP=CAP.loc[(CAP['price']<230000),:]"
   ]
  },
  {
   "cell_type": "code",
   "execution_count": 157,
   "metadata": {},
   "outputs": [
    {
     "data": {
      "image/png": "[encoded data removed]",
      "text/plain": [
       "<matplotlib.figure.Figure at 0x1c25199908>"
      ]
     },
     "metadata": {},
     "output_type": "display_data"
    }
   ],
   "source": [
    "plt.plot(CAP[\"age\"],CAP[\"price\"],'o',alpha=0.5)\n",
    "plt.xlabel(\"age\")\n",
    "plt.ylabel(\"montant de dépense\")\n",
    "plt.show()"
   ]
  },
  {
   "cell_type": "code",
   "execution_count": 158,
   "metadata": {},
   "outputs": [
    {
     "data": {
      "text/plain": [
       "-0.8397240934214883"
      ]
     },
     "execution_count": 158,
     "metadata": {},
     "output_type": "execute_result"
    }
   ],
   "source": [
    "st.pearsonr(CAP[\"age\"],CAP[\"price\"])[0]"
   ]
  },
  {
   "cell_type": "code",
   "execution_count": 159,
   "metadata": {},
   "outputs": [
    {
     "data": {
      "text/plain": [
       "-897033.5520814197"
      ]
     },
     "execution_count": 159,
     "metadata": {},
     "output_type": "execute_result"
    }
   ],
   "source": [
    "np.cov(CAP[\"age\"],CAP[\"price\"],ddof=0)[1,0]"
   ]
  },
  {
   "cell_type": "code",
   "execution_count": 160,
   "metadata": {},
   "outputs": [],
   "source": [
    "#import statsmodels.api as sm\n",
    "\n",
    "Y = CAP['price']\n",
    "X = CAP[['age']]\n",
    "X = X.copy() # On modifiera X, on en crée donc une copie\n",
    "X['intercept'] = 1."
   ]
  },
  {
   "cell_type": "code",
   "execution_count": 161,
   "metadata": {},
   "outputs": [
    {
     "data": {
      "text/plain": [
       "age           -1935.390957\n",
       "intercept    177510.733662\n",
       "dtype: float64"
      ]
     },
     "execution_count": 161,
     "metadata": {},
     "output_type": "execute_result"
    }
   ],
   "source": [
    "import statsmodels.api as sm\n",
    "\n",
    "Y = CAP['price']\n",
    "X = CAP[['age']]\n",
    "X = X.copy() # On modifiera X, on en crée donc une copie\n",
    "X['intercept'] = 1.\n",
    "result = sm.OLS(Y, X).fit() # OLS = Ordinary Least Square (Moindres Carrés Ordinaire)\n",
    "a,b = result.params['age'],result.params['intercept']\n",
    "\n",
    "result.params"
   ]
  },
  {
   "cell_type": "code",
   "execution_count": 162,
   "metadata": {},
   "outputs": [
    {
     "data": {
      "image/png": "[encoded data removed]",
      "text/plain": [
       "<matplotlib.figure.Figure at 0x1c2517deb8>"
      ]
     },
     "metadata": {},
     "output_type": "display_data"
    }
   ],
   "source": [
    "plt.plot(CAP.age,CAP.price, \"o\")\n",
    "plt.plot(np.arange(18,100),[a*x+b for x in np.arange(18,100)])#18 represente le depart, un pas de 100 \n",
    "plt.xlabel(\"age\")\n",
    "plt.ylabel(\"price\")\n",
    "plt.show()"
   ]
  },
  {
   "cell_type": "markdown",
   "metadata": {},
   "source": [
    "# Q2.B : Corrélation entre l'âge des clients et la fréquence d’achat¶\n"
   ]
  },
  {
   "cell_type": "markdown",
   "metadata": {},
   "source": [
    "# Avec Anomalies "
   ]
  },
  {
   "cell_type": "code",
   "execution_count": 163,
   "metadata": {},
   "outputs": [
    {
     "data": {
      "text/html": [
       "<div>\n",
       "<style scoped>\n",
       "    .dataframe tbody tr th:only-of-type {\n",
       "        vertical-align: middle;\n",
       "    }\n",
       "\n",
       "    .dataframe tbody tr th {\n",
       "        vertical-align: top;\n",
       "    }\n",
       "\n",
       "    .dataframe thead th {\n",
       "        text-align: right;\n",
       "    }\n",
       "</style>\n",
       "<table border=\"1\" class=\"dataframe\">\n",
       "  <thead>\n",
       "    <tr style=\"text-align: right;\">\n",
       "      <th></th>\n",
       "      <th>client_id</th>\n",
       "      <th>age</th>\n",
       "      <th>id_prod</th>\n",
       "      <th>session_id</th>\n",
       "      <th>price</th>\n",
       "    </tr>\n",
       "  </thead>\n",
       "  <tbody>\n",
       "    <tr>\n",
       "      <th>0</th>\n",
       "      <td>c_1</td>\n",
       "      <td>67</td>\n",
       "      <td>19</td>\n",
       "      <td>15</td>\n",
       "      <td>4.99</td>\n",
       "    </tr>\n",
       "    <tr>\n",
       "      <th>1</th>\n",
       "      <td>c_10</td>\n",
       "      <td>66</td>\n",
       "      <td>27</td>\n",
       "      <td>16</td>\n",
       "      <td>65.75</td>\n",
       "    </tr>\n",
       "    <tr>\n",
       "      <th>2</th>\n",
       "      <td>c_100</td>\n",
       "      <td>30</td>\n",
       "      <td>6</td>\n",
       "      <td>3</td>\n",
       "      <td>10.71</td>\n",
       "    </tr>\n",
       "    <tr>\n",
       "      <th>3</th>\n",
       "      <td>c_1000</td>\n",
       "      <td>56</td>\n",
       "      <td>52</td>\n",
       "      <td>42</td>\n",
       "      <td>4.20</td>\n",
       "    </tr>\n",
       "    <tr>\n",
       "      <th>4</th>\n",
       "      <td>c_1001</td>\n",
       "      <td>40</td>\n",
       "      <td>56</td>\n",
       "      <td>24</td>\n",
       "      <td>8.99</td>\n",
       "    </tr>\n",
       "  </tbody>\n",
       "</table>\n",
       "</div>"
      ],
      "text/plain": [
       "  client_id  age  id_prod  session_id  price\n",
       "0       c_1   67       19          15   4.99\n",
       "1      c_10   66       27          16  65.75\n",
       "2     c_100   30        6           3  10.71\n",
       "3    c_1000   56       52          42   4.20\n",
       "4    c_1001   40       56          24   8.99"
      ]
     },
     "execution_count": 163,
     "metadata": {},
     "output_type": "execute_result"
    }
   ],
   "source": [
    "frequence=sell.groupby(['client_id','age']).nunique()[['id_prod','session_id']].reset_index()\n",
    "frequence['price']=sell['price']\n",
    "frequence.head()"
   ]
  },
  {
   "cell_type": "code",
   "execution_count": 164,
   "metadata": {},
   "outputs": [
    {
     "data": {
      "text/html": [
       "<div>\n",
       "<style scoped>\n",
       "    .dataframe tbody tr th:only-of-type {\n",
       "        vertical-align: middle;\n",
       "    }\n",
       "\n",
       "    .dataframe tbody tr th {\n",
       "        vertical-align: top;\n",
       "    }\n",
       "\n",
       "    .dataframe thead th {\n",
       "        text-align: right;\n",
       "    }\n",
       "</style>\n",
       "<table border=\"1\" class=\"dataframe\">\n",
       "  <thead>\n",
       "    <tr style=\"text-align: right;\">\n",
       "      <th></th>\n",
       "      <th>client_id</th>\n",
       "      <th>age</th>\n",
       "      <th>id_prod</th>\n",
       "      <th>session_id</th>\n",
       "      <th>price</th>\n",
       "      <th>frequence</th>\n",
       "    </tr>\n",
       "  </thead>\n",
       "  <tbody>\n",
       "    <tr>\n",
       "      <th>0</th>\n",
       "      <td>c_1</td>\n",
       "      <td>67</td>\n",
       "      <td>19</td>\n",
       "      <td>15</td>\n",
       "      <td>4.99</td>\n",
       "      <td>1.250000</td>\n",
       "    </tr>\n",
       "    <tr>\n",
       "      <th>1</th>\n",
       "      <td>c_10</td>\n",
       "      <td>66</td>\n",
       "      <td>27</td>\n",
       "      <td>16</td>\n",
       "      <td>65.75</td>\n",
       "      <td>1.333333</td>\n",
       "    </tr>\n",
       "    <tr>\n",
       "      <th>2</th>\n",
       "      <td>c_100</td>\n",
       "      <td>30</td>\n",
       "      <td>6</td>\n",
       "      <td>3</td>\n",
       "      <td>10.71</td>\n",
       "      <td>0.250000</td>\n",
       "    </tr>\n",
       "    <tr>\n",
       "      <th>3</th>\n",
       "      <td>c_1000</td>\n",
       "      <td>56</td>\n",
       "      <td>52</td>\n",
       "      <td>42</td>\n",
       "      <td>4.20</td>\n",
       "      <td>3.500000</td>\n",
       "    </tr>\n",
       "    <tr>\n",
       "      <th>4</th>\n",
       "      <td>c_1001</td>\n",
       "      <td>40</td>\n",
       "      <td>56</td>\n",
       "      <td>24</td>\n",
       "      <td>8.99</td>\n",
       "      <td>2.000000</td>\n",
       "    </tr>\n",
       "  </tbody>\n",
       "</table>\n",
       "</div>"
      ],
      "text/plain": [
       "  client_id  age  id_prod  session_id  price  frequence\n",
       "0       c_1   67       19          15   4.99   1.250000\n",
       "1      c_10   66       27          16  65.75   1.333333\n",
       "2     c_100   30        6           3  10.71   0.250000\n",
       "3    c_1000   56       52          42   4.20   3.500000\n",
       "4    c_1001   40       56          24   8.99   2.000000"
      ]
     },
     "execution_count": 164,
     "metadata": {},
     "output_type": "execute_result"
    }
   ],
   "source": [
    "frequence['frequence']=frequence['session_id']/12\n",
    "frequence.head()"
   ]
  },
  {
   "cell_type": "code",
   "execution_count": 165,
   "metadata": {},
   "outputs": [],
   "source": [
    "FP=frequence.copy()"
   ]
  },
  {
   "cell_type": "code",
   "execution_count": 166,
   "metadata": {},
   "outputs": [
    {
     "data": {
      "image/png": "[encoded data removed]",
      "text/plain": [
       "<matplotlib.figure.Figure at 0x1c31e4be10>"
      ]
     },
     "metadata": {},
     "output_type": "display_data"
    }
   ],
   "source": [
    "freq_final=frequence.groupby('age').mean().reset_index()\n",
    "#depenses = sell[sell.price < 0]\n",
    "plt.plot(freq_final[\"age\"],freq_final[\"frequence\"],'o',alpha=0.5)\n",
    "plt.xlabel(\"age\")\n",
    "plt.ylabel(\"montant de dépense\")\n",
    "plt.show()"
   ]
  },
  {
   "cell_type": "code",
   "execution_count": 167,
   "metadata": {},
   "outputs": [
    {
     "data": {
      "text/plain": [
       "-0.1777418375412899"
      ]
     },
     "execution_count": 167,
     "metadata": {},
     "output_type": "execute_result"
    }
   ],
   "source": [
    "st.pearsonr(freq_final[\"age\"],-freq_final[\"frequence\"])[0]"
   ]
  },
  {
   "cell_type": "code",
   "execution_count": 168,
   "metadata": {},
   "outputs": [
    {
     "data": {
      "text/plain": [
       "-1.7074427264974765"
      ]
     },
     "execution_count": 168,
     "metadata": {},
     "output_type": "execute_result"
    }
   ],
   "source": [
    "np.cov(freq_final[\"age\"],-freq_final[\"frequence\"],ddof=0)[1,0]"
   ]
  },
  {
   "cell_type": "markdown",
   "metadata": {},
   "source": [
    "# Sans anomalies "
   ]
  },
  {
   "cell_type": "code",
   "execution_count": 169,
   "metadata": {},
   "outputs": [
    {
     "data": {
      "text/html": [
       "<div>\n",
       "<style scoped>\n",
       "    .dataframe tbody tr th:only-of-type {\n",
       "        vertical-align: middle;\n",
       "    }\n",
       "\n",
       "    .dataframe tbody tr th {\n",
       "        vertical-align: top;\n",
       "    }\n",
       "\n",
       "    .dataframe thead th {\n",
       "        text-align: right;\n",
       "    }\n",
       "</style>\n",
       "<table border=\"1\" class=\"dataframe\">\n",
       "  <thead>\n",
       "    <tr style=\"text-align: right;\">\n",
       "      <th></th>\n",
       "      <th>client_id</th>\n",
       "      <th>age</th>\n",
       "      <th>id_prod</th>\n",
       "      <th>session_id</th>\n",
       "      <th>price</th>\n",
       "      <th>frequence</th>\n",
       "    </tr>\n",
       "  </thead>\n",
       "  <tbody>\n",
       "    <tr>\n",
       "      <th>0</th>\n",
       "      <td>c_1</td>\n",
       "      <td>67</td>\n",
       "      <td>19</td>\n",
       "      <td>15</td>\n",
       "      <td>4.99</td>\n",
       "      <td>1.250000</td>\n",
       "    </tr>\n",
       "    <tr>\n",
       "      <th>1</th>\n",
       "      <td>c_10</td>\n",
       "      <td>66</td>\n",
       "      <td>27</td>\n",
       "      <td>16</td>\n",
       "      <td>65.75</td>\n",
       "      <td>1.333333</td>\n",
       "    </tr>\n",
       "    <tr>\n",
       "      <th>2</th>\n",
       "      <td>c_100</td>\n",
       "      <td>30</td>\n",
       "      <td>6</td>\n",
       "      <td>3</td>\n",
       "      <td>10.71</td>\n",
       "      <td>0.250000</td>\n",
       "    </tr>\n",
       "    <tr>\n",
       "      <th>3</th>\n",
       "      <td>c_1000</td>\n",
       "      <td>56</td>\n",
       "      <td>52</td>\n",
       "      <td>42</td>\n",
       "      <td>4.20</td>\n",
       "      <td>3.500000</td>\n",
       "    </tr>\n",
       "    <tr>\n",
       "      <th>4</th>\n",
       "      <td>c_1001</td>\n",
       "      <td>40</td>\n",
       "      <td>56</td>\n",
       "      <td>24</td>\n",
       "      <td>8.99</td>\n",
       "      <td>2.000000</td>\n",
       "    </tr>\n",
       "  </tbody>\n",
       "</table>\n",
       "</div>"
      ],
      "text/plain": [
       "  client_id  age  id_prod  session_id  price  frequence\n",
       "0       c_1   67       19          15   4.99   1.250000\n",
       "1      c_10   66       27          16  65.75   1.333333\n",
       "2     c_100   30        6           3  10.71   0.250000\n",
       "3    c_1000   56       52          42   4.20   3.500000\n",
       "4    c_1001   40       56          24   8.99   2.000000"
      ]
     },
     "execution_count": 169,
     "metadata": {},
     "output_type": "execute_result"
    }
   ],
   "source": [
    "FP.head()"
   ]
  },
  {
   "cell_type": "code",
   "execution_count": 170,
   "metadata": {},
   "outputs": [],
   "source": [
    "FP=(FP.loc[(FP['age']>30),:])"
   ]
  },
  {
   "cell_type": "code",
   "execution_count": 171,
   "metadata": {},
   "outputs": [
    {
     "data": {
      "text/html": [
       "<div>\n",
       "<style scoped>\n",
       "    .dataframe tbody tr th:only-of-type {\n",
       "        vertical-align: middle;\n",
       "    }\n",
       "\n",
       "    .dataframe tbody tr th {\n",
       "        vertical-align: top;\n",
       "    }\n",
       "\n",
       "    .dataframe thead th {\n",
       "        text-align: right;\n",
       "    }\n",
       "</style>\n",
       "<table border=\"1\" class=\"dataframe\">\n",
       "  <thead>\n",
       "    <tr style=\"text-align: right;\">\n",
       "      <th></th>\n",
       "      <th>client_id</th>\n",
       "      <th>age</th>\n",
       "      <th>id_prod</th>\n",
       "      <th>session_id</th>\n",
       "      <th>price</th>\n",
       "      <th>frequence</th>\n",
       "    </tr>\n",
       "  </thead>\n",
       "  <tbody>\n",
       "    <tr>\n",
       "      <th>0</th>\n",
       "      <td>c_1</td>\n",
       "      <td>67</td>\n",
       "      <td>19</td>\n",
       "      <td>15</td>\n",
       "      <td>4.99</td>\n",
       "      <td>1.250000</td>\n",
       "    </tr>\n",
       "    <tr>\n",
       "      <th>1</th>\n",
       "      <td>c_10</td>\n",
       "      <td>66</td>\n",
       "      <td>27</td>\n",
       "      <td>16</td>\n",
       "      <td>65.75</td>\n",
       "      <td>1.333333</td>\n",
       "    </tr>\n",
       "    <tr>\n",
       "      <th>3</th>\n",
       "      <td>c_1000</td>\n",
       "      <td>56</td>\n",
       "      <td>52</td>\n",
       "      <td>42</td>\n",
       "      <td>4.20</td>\n",
       "      <td>3.500000</td>\n",
       "    </tr>\n",
       "    <tr>\n",
       "      <th>4</th>\n",
       "      <td>c_1001</td>\n",
       "      <td>40</td>\n",
       "      <td>56</td>\n",
       "      <td>24</td>\n",
       "      <td>8.99</td>\n",
       "      <td>2.000000</td>\n",
       "    </tr>\n",
       "    <tr>\n",
       "      <th>5</th>\n",
       "      <td>c_1002</td>\n",
       "      <td>40</td>\n",
       "      <td>24</td>\n",
       "      <td>11</td>\n",
       "      <td>3.99</td>\n",
       "      <td>0.916667</td>\n",
       "    </tr>\n",
       "  </tbody>\n",
       "</table>\n",
       "</div>"
      ],
      "text/plain": [
       "  client_id  age  id_prod  session_id  price  frequence\n",
       "0       c_1   67       19          15   4.99   1.250000\n",
       "1      c_10   66       27          16  65.75   1.333333\n",
       "3    c_1000   56       52          42   4.20   3.500000\n",
       "4    c_1001   40       56          24   8.99   2.000000\n",
       "5    c_1002   40       24          11   3.99   0.916667"
      ]
     },
     "execution_count": 171,
     "metadata": {},
     "output_type": "execute_result"
    }
   ],
   "source": [
    "FP.head()"
   ]
  },
  {
   "cell_type": "code",
   "execution_count": 172,
   "metadata": {},
   "outputs": [
    {
     "data": {
      "image/png": "[encoded data removed]",
      "text/plain": [
       "<matplotlib.figure.Figure at 0x1c24e099b0>"
      ]
     },
     "metadata": {},
     "output_type": "display_data"
    }
   ],
   "source": [
    "FP_final=FP.groupby('age').mean().reset_index()\n",
    "#depenses = sell[sell.price < 0]\n",
    "plt.plot(FP_final[\"age\"],FP_final[\"frequence\"],'o',alpha=0.5)\n",
    "plt.xlabel(\"age\")\n",
    "plt.ylabel(\"montant de dépense\")\n",
    "plt.show()"
   ]
  },
  {
   "cell_type": "code",
   "execution_count": 173,
   "metadata": {},
   "outputs": [
    {
     "data": {
      "text/plain": [
       "-0.7547300344331659"
      ]
     },
     "execution_count": 173,
     "metadata": {},
     "output_type": "execute_result"
    }
   ],
   "source": [
    "st.pearsonr(FP_final[\"age\"],FP_final[\"frequence\"])[0] #Modif FP"
   ]
  },
  {
   "cell_type": "code",
   "execution_count": 174,
   "metadata": {},
   "outputs": [
    {
     "data": {
      "text/plain": [
       "-3.9708512397973843"
      ]
     },
     "execution_count": 174,
     "metadata": {},
     "output_type": "execute_result"
    }
   ],
   "source": [
    "np.cov(FP_final[\"age\"],FP_final[\"frequence\"],ddof=0)[1,0] #Modif FP"
   ]
  },
  {
   "cell_type": "markdown",
   "metadata": {},
   "source": [
    "# Q2.C : Corrélation entre l'âge des clients et taille du panier moyen (en nombre d’articles)"
   ]
  },
  {
   "cell_type": "markdown",
   "metadata": {},
   "source": [
    "# Avec Outliers "
   ]
  },
  {
   "cell_type": "code",
   "execution_count": 175,
   "metadata": {},
   "outputs": [
    {
     "data": {
      "text/html": [
       "<div>\n",
       "<style scoped>\n",
       "    .dataframe tbody tr th:only-of-type {\n",
       "        vertical-align: middle;\n",
       "    }\n",
       "\n",
       "    .dataframe tbody tr th {\n",
       "        vertical-align: top;\n",
       "    }\n",
       "\n",
       "    .dataframe thead th {\n",
       "        text-align: right;\n",
       "    }\n",
       "</style>\n",
       "<table border=\"1\" class=\"dataframe\">\n",
       "  <thead>\n",
       "    <tr style=\"text-align: right;\">\n",
       "      <th></th>\n",
       "      <th>client_id</th>\n",
       "      <th>age</th>\n",
       "      <th>id_prod</th>\n",
       "      <th>session_id</th>\n",
       "      <th>price</th>\n",
       "      <th>frequence</th>\n",
       "    </tr>\n",
       "  </thead>\n",
       "  <tbody>\n",
       "    <tr>\n",
       "      <th>0</th>\n",
       "      <td>c_1</td>\n",
       "      <td>67</td>\n",
       "      <td>19</td>\n",
       "      <td>15</td>\n",
       "      <td>4.99</td>\n",
       "      <td>1.250000</td>\n",
       "    </tr>\n",
       "    <tr>\n",
       "      <th>1</th>\n",
       "      <td>c_10</td>\n",
       "      <td>66</td>\n",
       "      <td>27</td>\n",
       "      <td>16</td>\n",
       "      <td>65.75</td>\n",
       "      <td>1.333333</td>\n",
       "    </tr>\n",
       "    <tr>\n",
       "      <th>2</th>\n",
       "      <td>c_100</td>\n",
       "      <td>30</td>\n",
       "      <td>6</td>\n",
       "      <td>3</td>\n",
       "      <td>10.71</td>\n",
       "      <td>0.250000</td>\n",
       "    </tr>\n",
       "    <tr>\n",
       "      <th>3</th>\n",
       "      <td>c_1000</td>\n",
       "      <td>56</td>\n",
       "      <td>52</td>\n",
       "      <td>42</td>\n",
       "      <td>4.20</td>\n",
       "      <td>3.500000</td>\n",
       "    </tr>\n",
       "    <tr>\n",
       "      <th>4</th>\n",
       "      <td>c_1001</td>\n",
       "      <td>40</td>\n",
       "      <td>56</td>\n",
       "      <td>24</td>\n",
       "      <td>8.99</td>\n",
       "      <td>2.000000</td>\n",
       "    </tr>\n",
       "  </tbody>\n",
       "</table>\n",
       "</div>"
      ],
      "text/plain": [
       "  client_id  age  id_prod  session_id  price  frequence\n",
       "0       c_1   67       19          15   4.99   1.250000\n",
       "1      c_10   66       27          16  65.75   1.333333\n",
       "2     c_100   30        6           3  10.71   0.250000\n",
       "3    c_1000   56       52          42   4.20   3.500000\n",
       "4    c_1001   40       56          24   8.99   2.000000"
      ]
     },
     "execution_count": 175,
     "metadata": {},
     "output_type": "execute_result"
    }
   ],
   "source": [
    "frequence.head()"
   ]
  },
  {
   "cell_type": "code",
   "execution_count": 176,
   "metadata": {},
   "outputs": [
    {
     "data": {
      "image/png": "[encoded data removed]",
      "text/plain": [
       "<matplotlib.figure.Figure at 0x1a116c35f8>"
      ]
     },
     "metadata": {},
     "output_type": "display_data"
    }
   ],
   "source": [
    "frequence['panier']=frequence['id_prod']/frequence['session_id']\n",
    "panier_moy=frequence.groupby('age').mean().reset_index()\n",
    "plt.plot(panier_moy[\"age\"],panier_moy[\"panier\"],'o',alpha=0.5)\n",
    "plt.xlabel(\"age\")\n",
    "plt.ylabel(\"montant de dépense\")\n",
    "plt.show()"
   ]
  },
  {
   "cell_type": "code",
   "execution_count": 177,
   "metadata": {},
   "outputs": [
    {
     "data": {
      "text/plain": [
       "0.5679984987687602"
      ]
     },
     "execution_count": 177,
     "metadata": {},
     "output_type": "execute_result"
    }
   ],
   "source": [
    "st.pearsonr(panier_moy[\"age\"],-panier_moy[\"panier\"])[0]"
   ]
  },
  {
   "cell_type": "code",
   "execution_count": 178,
   "metadata": {},
   "outputs": [
    {
     "data": {
      "text/plain": [
       "4.596687328645739"
      ]
     },
     "execution_count": 178,
     "metadata": {},
     "output_type": "execute_result"
    }
   ],
   "source": [
    "np.cov(panier_moy[\"age\"],-panier_moy[\"panier\"],ddof=0)[1,0]"
   ]
  },
  {
   "cell_type": "markdown",
   "metadata": {},
   "source": [
    "# Sans Outliers"
   ]
  },
  {
   "cell_type": "code",
   "execution_count": 179,
   "metadata": {},
   "outputs": [],
   "source": [
    "FP1=frequence.copy()"
   ]
  },
  {
   "cell_type": "code",
   "execution_count": 180,
   "metadata": {},
   "outputs": [],
   "source": [
    "FP1=(FP1.loc[(FP1['age']>50),:])"
   ]
  },
  {
   "cell_type": "code",
   "execution_count": 181,
   "metadata": {},
   "outputs": [
    {
     "data": {
      "text/html": [
       "<div>\n",
       "<style scoped>\n",
       "    .dataframe tbody tr th:only-of-type {\n",
       "        vertical-align: middle;\n",
       "    }\n",
       "\n",
       "    .dataframe tbody tr th {\n",
       "        vertical-align: top;\n",
       "    }\n",
       "\n",
       "    .dataframe thead th {\n",
       "        text-align: right;\n",
       "    }\n",
       "</style>\n",
       "<table border=\"1\" class=\"dataframe\">\n",
       "  <thead>\n",
       "    <tr style=\"text-align: right;\">\n",
       "      <th></th>\n",
       "      <th>client_id</th>\n",
       "      <th>age</th>\n",
       "      <th>id_prod</th>\n",
       "      <th>session_id</th>\n",
       "      <th>price</th>\n",
       "      <th>frequence</th>\n",
       "      <th>panier</th>\n",
       "    </tr>\n",
       "  </thead>\n",
       "  <tbody>\n",
       "    <tr>\n",
       "      <th>0</th>\n",
       "      <td>c_1</td>\n",
       "      <td>67</td>\n",
       "      <td>19</td>\n",
       "      <td>15</td>\n",
       "      <td>4.99</td>\n",
       "      <td>1.250000</td>\n",
       "      <td>1.266667</td>\n",
       "    </tr>\n",
       "    <tr>\n",
       "      <th>1</th>\n",
       "      <td>c_10</td>\n",
       "      <td>66</td>\n",
       "      <td>27</td>\n",
       "      <td>16</td>\n",
       "      <td>65.75</td>\n",
       "      <td>1.333333</td>\n",
       "      <td>1.687500</td>\n",
       "    </tr>\n",
       "    <tr>\n",
       "      <th>3</th>\n",
       "      <td>c_1000</td>\n",
       "      <td>56</td>\n",
       "      <td>52</td>\n",
       "      <td>42</td>\n",
       "      <td>4.20</td>\n",
       "      <td>3.500000</td>\n",
       "      <td>1.238095</td>\n",
       "    </tr>\n",
       "    <tr>\n",
       "      <th>8</th>\n",
       "      <td>c_1005</td>\n",
       "      <td>81</td>\n",
       "      <td>31</td>\n",
       "      <td>15</td>\n",
       "      <td>14.99</td>\n",
       "      <td>1.250000</td>\n",
       "      <td>2.066667</td>\n",
       "    </tr>\n",
       "    <tr>\n",
       "      <th>10</th>\n",
       "      <td>c_1007</td>\n",
       "      <td>81</td>\n",
       "      <td>15</td>\n",
       "      <td>11</td>\n",
       "      <td>1.99</td>\n",
       "      <td>0.916667</td>\n",
       "      <td>1.363636</td>\n",
       "    </tr>\n",
       "  </tbody>\n",
       "</table>\n",
       "</div>"
      ],
      "text/plain": [
       "   client_id  age  id_prod  session_id  price  frequence    panier\n",
       "0        c_1   67       19          15   4.99   1.250000  1.266667\n",
       "1       c_10   66       27          16  65.75   1.333333  1.687500\n",
       "3     c_1000   56       52          42   4.20   3.500000  1.238095\n",
       "8     c_1005   81       31          15  14.99   1.250000  2.066667\n",
       "10    c_1007   81       15          11   1.99   0.916667  1.363636"
      ]
     },
     "execution_count": 181,
     "metadata": {},
     "output_type": "execute_result"
    }
   ],
   "source": [
    "FP1.head()"
   ]
  },
  {
   "cell_type": "code",
   "execution_count": 182,
   "metadata": {},
   "outputs": [
    {
     "data": {
      "image/png": "[encoded data removed]",
      "text/plain": [
       "<matplotlib.figure.Figure at 0x1c2320b208>"
      ]
     },
     "metadata": {},
     "output_type": "display_data"
    }
   ],
   "source": [
    "FP1['panier']=FP1['id_prod']/FP1['session_id']\n",
    "panier_moy=FP1.groupby('age').mean().reset_index()\n",
    "plt.plot(panier_moy[\"age\"],panier_moy[\"panier\"],'o',alpha=0.5)\n",
    "plt.xlabel(\"age\")\n",
    "plt.ylabel(\"montant de dépense\")\n",
    "plt.show()"
   ]
  },
  {
   "cell_type": "code",
   "execution_count": 183,
   "metadata": {},
   "outputs": [
    {
     "data": {
      "text/plain": [
       "-0.10163271654265892"
      ]
     },
     "execution_count": 183,
     "metadata": {},
     "output_type": "execute_result"
    }
   ],
   "source": [
    "st.pearsonr(panier_moy[\"age\"],-panier_moy[\"panier\"])[0]"
   ]
  },
  {
   "cell_type": "code",
   "execution_count": 184,
   "metadata": {},
   "outputs": [
    {
     "data": {
      "text/plain": [
       "-0.12969008575635363"
      ]
     },
     "execution_count": 184,
     "metadata": {},
     "output_type": "execute_result"
    }
   ],
   "source": [
    "np.cov(panier_moy[\"age\"],-panier_moy[\"panier\"],ddof=0)[1,0]"
   ]
  },
  {
   "cell_type": "markdown",
   "metadata": {},
   "source": [
    "# Q2.D : Corrélation entre l'âge des clients et les catégories de produits achetés"
   ]
  },
  {
   "cell_type": "code",
   "execution_count": 185,
   "metadata": {},
   "outputs": [],
   "source": [
    "X = \"categ\" # qualitative\n",
    "Y = \"age\" # quantitative\n",
    "\n",
    "sous_echantillon = sell.copy()"
   ]
  },
  {
   "cell_type": "code",
   "execution_count": 186,
   "metadata": {},
   "outputs": [],
   "source": [
    "# Changement de la palette graphique\n",
    "sns.set_palette(sns.color_palette(\"colorblind\", 3))"
   ]
  },
  {
   "cell_type": "code",
   "execution_count": 187,
   "metadata": {},
   "outputs": [
    {
     "data": {
      "image/png": "[encoded data removed]",
      "text/plain": [
       "<matplotlib.figure.Figure at 0x1c25161320>"
      ]
     },
     "metadata": {},
     "output_type": "display_data"
    }
   ],
   "source": [
    "modalites = sous_echantillon[X].unique()\n",
    "groupes = []\n",
    "for m in modalites:\n",
    "    groupes.append(sous_echantillon[sous_echantillon[X]==m][Y])\n",
    "    \n",
    "medianprops = {'color':\"black\"}\n",
    "meanprops = {'marker':'o', 'markeredgecolor':'black',\n",
    "            'markerfacecolor':'firebrick'}\n",
    "    \n",
    "plt.boxplot(groupes, labels=modalites, showfliers=False, medianprops=medianprops, \n",
    "            vert=False, patch_artist=True, showmeans=True, meanprops=meanprops)\n",
    "plt.xlabel(\"age\")\n",
    "plt.ylabel(\"catégorie\")\n",
    "plt.show()"
   ]
  },
  {
   "cell_type": "code",
   "execution_count": 188,
   "metadata": {},
   "outputs": [
    {
     "data": {
      "text/plain": [
       "0.11279029932310022"
      ]
     },
     "execution_count": 188,
     "metadata": {},
     "output_type": "execute_result"
    }
   ],
   "source": [
    "#ANOVA\n",
    "def eta_squared(x,y):\n",
    "    moyenne_y = y.mean()\n",
    "    classes = []\n",
    "    for classe in x.unique():\n",
    "        yi_classe = y[x==classe]\n",
    "        classes.append({'ni': len(yi_classe),\n",
    "                        'moyenne_classe': yi_classe.mean()})\n",
    "    SCT = sum([(yj-moyenne_y)**2 for yj in y])\n",
    "    SCE = sum([c['ni']*(c['moyenne_classe']-moyenne_y)**2 for c in classes])\n",
    "    return SCE/SCT\n",
    "    \n",
    "eta_squared(sous_echantillon[X],sous_echantillon[Y])"
   ]
  }
 ],
 "metadata": {
  "kernelspec": {
   "display_name": "Python 3",
   "language": "python",
   "name": "python3"
  },
  "language_info": {
   "codemirror_mode": {
    "name": "ipython",
    "version": 3
   },
   "file_extension": ".py",
   "mimetype": "text/x-python",
   "name": "python",
   "nbconvert_exporter": "python",
   "pygments_lexer": "ipython3",
   "version": "3.6.4"
  },
  "toc": {
   "base_numbering": 1,
   "nav_menu": {},
   "number_sections": true,
   "sideBar": true,
   "skip_h1_title": false,
   "title_cell": "Table of Contents",
   "title_sidebar": "Contents",
   "toc_cell": false,
   "toc_position": {},
   "toc_section_display": true,
   "toc_window_display": false
  }
 },
 "nbformat": 4,
 "nbformat_minor": 2
}
